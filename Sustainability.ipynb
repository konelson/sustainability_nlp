{
 "cells": [
  {
   "cell_type": "code",
   "execution_count": 1,
   "metadata": {},
   "outputs": [
    {
     "data": {
      "text/plain": [
       "'/Users/kelly/metis_v3/Notes/Week_6/04-fletcher-mongo'"
      ]
     },
     "execution_count": 1,
     "metadata": {},
     "output_type": "execute_result"
    }
   ],
   "source": [
    "pwd"
   ]
  },
  {
   "cell_type": "code",
   "execution_count": 2,
   "metadata": {},
   "outputs": [],
   "source": [
    "import pandas as pd\n",
    "import requests "
   ]
  },
  {
   "cell_type": "code",
   "execution_count": 3,
   "metadata": {},
   "outputs": [],
   "source": [
    "# This is needed to authenticate us to Twitter\n",
    "\n",
    "try:\n",
    "    from requests_oauthlib import OAuth1\n",
    "except ModuleNotFoundError:\n",
    "    import sys\n",
    "    import os\n",
    "\n",
    "    sys.path.append('/usr/local/lib/python3.6/site-packages')\n",
    "    from requests_oauthlib import OAuth1"
   ]
  },
  {
   "cell_type": "code",
   "execution_count": 4,
   "metadata": {},
   "outputs": [],
   "source": [
    "from twitter_credentials import credentials\n",
    "\n",
    "oauth = OAuth1(credentials[\"TWITTER_CONSUMER_KEY\"],\n",
    "               credentials[\"TWITTER_CONSUMER_KEY_SECRET\"],\n",
    "               credentials[\"TWITTER_ACCESS_TOKEN\"],\n",
    "               credentials[\"TWITTER_ACCESS_TOKEN_SECRET\"])"
   ]
  },
  {
   "cell_type": "code",
   "execution_count": 5,
   "metadata": {},
   "outputs": [],
   "source": [
    "import json\n",
    "from pymongo import MongoClient\n",
    "\n",
    "# This connects us to the \"legistlation\" database, and the \"collection\" [think table] news \n",
    "# in that database\n",
    "\n",
    "# These don't already exist, we're making them as we're connecting to them\n",
    "\n",
    "# If we wanted to connect to Mongo on AWS, this is where we'd set that info\n",
    "client = MongoClient()\n",
    "db = client.environment\n",
    "redtide_collection = db.sustainability"
   ]
  },
  {
   "cell_type": "code",
   "execution_count": 38,
   "metadata": {},
   "outputs": [],
   "source": [
    "#Searching all of Twitter now\n",
    "\n",
    "parameters = {\"q\": \"#sustainability\", \"count\":100, \n",
    "             \"lang\":\"en\"}\n",
    "\n",
    "response = requests.get(\"https://api.twitter.com/1.1/search/tweets.json\",\n",
    "                        params = parameters,\n",
    "                        auth=oauth)"
   ]
  },
  {
   "cell_type": "code",
   "execution_count": 39,
   "metadata": {},
   "outputs": [
    {
     "data": {
      "text/plain": [
       "{'created_at': 'Mon Aug 13 02:02:41 +0000 2018',\n",
       " 'id': 1028824126662877184,\n",
       " 'id_str': '1028824126662877184',\n",
       " 'text': 'RT @UCSustainable: Come celebrate biking, community, and the end of summer with us on 9/13 at the Fifth Annual Bike Show! \\n\\nhttps://t.co/lD…',\n",
       " 'truncated': False,\n",
       " 'entities': {'hashtags': [],\n",
       "  'symbols': [],\n",
       "  'user_mentions': [{'screen_name': 'UCSustainable',\n",
       "    'name': 'UC|sustainability',\n",
       "    'id': 95508908,\n",
       "    'id_str': '95508908',\n",
       "    'indices': [3, 17]}],\n",
       "  'urls': []},\n",
       " 'metadata': {'iso_language_code': 'en', 'result_type': 'recent'},\n",
       " 'source': '<a href=\"http://twitter.com/download/iphone\" rel=\"nofollow\">Twitter for iPhone</a>',\n",
       " 'in_reply_to_status_id': None,\n",
       " 'in_reply_to_status_id_str': None,\n",
       " 'in_reply_to_user_id': None,\n",
       " 'in_reply_to_user_id_str': None,\n",
       " 'in_reply_to_screen_name': None,\n",
       " 'user': {'id': 384338636,\n",
       "  'id_str': '384338636',\n",
       "  'name': 'Green Umbrella',\n",
       "  'screen_name': 'GreenUmbrella',\n",
       "  'location': 'Cincinnati, OH, USA',\n",
       "  'description': 'Green Umbrella is the leading alliance working to maximize the environmental sustainability of Greater Cincinnati.',\n",
       "  'url': 'http://t.co/mYD6kg5Wyd',\n",
       "  'entities': {'url': {'urls': [{'url': 'http://t.co/mYD6kg5Wyd',\n",
       "      'expanded_url': 'http://www.greenumbrella.org',\n",
       "      'display_url': 'greenumbrella.org',\n",
       "      'indices': [0, 22]}]},\n",
       "   'description': {'urls': []}},\n",
       "  'protected': False,\n",
       "  'followers_count': 2142,\n",
       "  'friends_count': 816,\n",
       "  'listed_count': 50,\n",
       "  'created_at': 'Mon Oct 03 14:19:13 +0000 2011',\n",
       "  'favourites_count': 1119,\n",
       "  'utc_offset': None,\n",
       "  'time_zone': None,\n",
       "  'geo_enabled': False,\n",
       "  'verified': False,\n",
       "  'statuses_count': 2809,\n",
       "  'lang': 'en',\n",
       "  'contributors_enabled': False,\n",
       "  'is_translator': False,\n",
       "  'is_translation_enabled': False,\n",
       "  'profile_background_color': 'C0DEED',\n",
       "  'profile_background_image_url': 'http://abs.twimg.com/images/themes/theme1/bg.png',\n",
       "  'profile_background_image_url_https': 'https://abs.twimg.com/images/themes/theme1/bg.png',\n",
       "  'profile_background_tile': True,\n",
       "  'profile_image_url': 'http://pbs.twimg.com/profile_images/795713953473167360/qul_V9jk_normal.jpg',\n",
       "  'profile_image_url_https': 'https://pbs.twimg.com/profile_images/795713953473167360/qul_V9jk_normal.jpg',\n",
       "  'profile_link_color': '0084B4',\n",
       "  'profile_sidebar_border_color': 'C0DEED',\n",
       "  'profile_sidebar_fill_color': 'DDEEF6',\n",
       "  'profile_text_color': '333333',\n",
       "  'profile_use_background_image': True,\n",
       "  'has_extended_profile': False,\n",
       "  'default_profile': False,\n",
       "  'default_profile_image': False,\n",
       "  'following': False,\n",
       "  'follow_request_sent': False,\n",
       "  'notifications': False,\n",
       "  'translator_type': 'none'},\n",
       " 'geo': None,\n",
       " 'coordinates': None,\n",
       " 'place': None,\n",
       " 'contributors': None,\n",
       " 'retweeted_status': {'created_at': 'Fri Aug 10 14:06:36 +0000 2018',\n",
       "  'id': 1027919142379302914,\n",
       "  'id_str': '1027919142379302914',\n",
       "  'text': 'Come celebrate biking, community, and the end of summer with us on 9/13 at the Fifth Annual Bike Show!… https://t.co/G9FKi2IUyT',\n",
       "  'truncated': True,\n",
       "  'entities': {'hashtags': [],\n",
       "   'symbols': [],\n",
       "   'user_mentions': [],\n",
       "   'urls': [{'url': 'https://t.co/G9FKi2IUyT',\n",
       "     'expanded_url': 'https://twitter.com/i/web/status/1027919142379302914',\n",
       "     'display_url': 'twitter.com/i/web/status/1…',\n",
       "     'indices': [104, 127]}]},\n",
       "  'metadata': {'iso_language_code': 'en', 'result_type': 'recent'},\n",
       "  'source': '<a href=\"http://twitter.com\" rel=\"nofollow\">Twitter Web Client</a>',\n",
       "  'in_reply_to_status_id': None,\n",
       "  'in_reply_to_status_id_str': None,\n",
       "  'in_reply_to_user_id': None,\n",
       "  'in_reply_to_user_id_str': None,\n",
       "  'in_reply_to_screen_name': None,\n",
       "  'user': {'id': 95508908,\n",
       "   'id_str': '95508908',\n",
       "   'name': 'UC|sustainability',\n",
       "   'screen_name': 'UCSustainable',\n",
       "   'location': 'University of Cincinnati',\n",
       "   'description': 'UC|sustainability represents the diverse sustainability movement at the University of Cincinnati.',\n",
       "   'url': 'http://t.co/ktsz7FVgLv',\n",
       "   'entities': {'url': {'urls': [{'url': 'http://t.co/ktsz7FVgLv',\n",
       "       'expanded_url': 'http://www.uc.edu/sustainability/',\n",
       "       'display_url': 'uc.edu/sustainability/',\n",
       "       'indices': [0, 22]}]},\n",
       "    'description': {'urls': []}},\n",
       "   'protected': False,\n",
       "   'followers_count': 2226,\n",
       "   'friends_count': 632,\n",
       "   'listed_count': 110,\n",
       "   'created_at': 'Tue Dec 08 21:41:34 +0000 2009',\n",
       "   'favourites_count': 464,\n",
       "   'utc_offset': None,\n",
       "   'time_zone': None,\n",
       "   'geo_enabled': True,\n",
       "   'verified': False,\n",
       "   'statuses_count': 1408,\n",
       "   'lang': 'en',\n",
       "   'contributors_enabled': False,\n",
       "   'is_translator': False,\n",
       "   'is_translation_enabled': False,\n",
       "   'profile_background_color': 'EDECE9',\n",
       "   'profile_background_image_url': 'http://abs.twimg.com/images/themes/theme3/bg.gif',\n",
       "   'profile_background_image_url_https': 'https://abs.twimg.com/images/themes/theme3/bg.gif',\n",
       "   'profile_background_tile': False,\n",
       "   'profile_image_url': 'http://pbs.twimg.com/profile_images/1250725202/UC_Sustainability_3_normal.png',\n",
       "   'profile_image_url_https': 'https://pbs.twimg.com/profile_images/1250725202/UC_Sustainability_3_normal.png',\n",
       "   'profile_banner_url': 'https://pbs.twimg.com/profile_banners/95508908/1527186590',\n",
       "   'profile_link_color': '088253',\n",
       "   'profile_sidebar_border_color': 'D3D2CF',\n",
       "   'profile_sidebar_fill_color': 'E3E2DE',\n",
       "   'profile_text_color': '634047',\n",
       "   'profile_use_background_image': True,\n",
       "   'has_extended_profile': False,\n",
       "   'default_profile': False,\n",
       "   'default_profile_image': False,\n",
       "   'following': False,\n",
       "   'follow_request_sent': False,\n",
       "   'notifications': False,\n",
       "   'translator_type': 'none'},\n",
       "  'geo': None,\n",
       "  'coordinates': None,\n",
       "  'place': None,\n",
       "  'contributors': None,\n",
       "  'is_quote_status': False,\n",
       "  'retweet_count': 2,\n",
       "  'favorite_count': 2,\n",
       "  'favorited': False,\n",
       "  'retweeted': False,\n",
       "  'possibly_sensitive': False,\n",
       "  'lang': 'en'},\n",
       " 'is_quote_status': False,\n",
       " 'retweet_count': 2,\n",
       " 'favorite_count': 0,\n",
       " 'favorited': False,\n",
       " 'retweeted': False,\n",
       " 'lang': 'en'}"
      ]
     },
     "execution_count": 39,
     "metadata": {},
     "output_type": "execute_result"
    }
   ],
   "source": [
    "# Just look at the first tweet:\n",
    "response.json()['statuses'][0]"
   ]
  },
  {
   "cell_type": "code",
   "execution_count": 42,
   "metadata": {},
   "outputs": [
    {
     "name": "stdout",
     "output_type": "stream",
     "text": [
      "\n",
      "        Tweet body: If you're looking for work in #Libreville, Estuaire, check out this #job: https://t.co/bpmKMIxhrJ #Conservation… https://t.co/cglFp2B3ur\n",
      "        Hashtags: [{'text': 'Libreville', 'indices': [30, 41]}, {'text': 'job', 'indices': [68, 72]}, {'text': 'Conservation', 'indices': [98, 111]}]\n",
      "        Username: nature_careers\n",
      "        Bio: Want to work for an organization you can believe in? The Nature Conservancy (@nature_org) is a leading conservation organization working for people and nature.\n",
      "        Social status: 206 friends, 3599 followers\n",
      "        Location: Worldwide\n",
      "    \n"
     ]
    }
   ],
   "source": [
    "#extract info out of tweet\n",
    "\n",
    "#put statuses into tweets, selecting parts of first tweet to print\n",
    "\n",
    "tweets = response.json()['statuses']\n",
    "\n",
    "def tweet_to_string(tweet):\n",
    "    s = \"\"\"\n",
    "        Tweet body: {text}\n",
    "        Hashtags: {hashtags}\n",
    "        Username: {screenname}\n",
    "        Bio: {description}\n",
    "        Social status: {friends} friends, {followers} followers\n",
    "        Location: {location}\n",
    "    \"\"\".format(text=tweet['text'], hashtags=tweet['entities']['hashtags'],\n",
    "               screenname=tweet['user']['screen_name'], \n",
    "               description=tweet['user']['description'],\n",
    "               friends=tweet['user']['friends_count'],\n",
    "               followers=tweet['user']['followers_count'],\n",
    "               location=tweet['user']['location'])\n",
    "    return s\n",
    "\n",
    "print(tweet_to_string(tweets[0]))"
   ]
  },
  {
   "cell_type": "code",
   "execution_count": 10,
   "metadata": {},
   "outputs": [
    {
     "data": {
      "text/plain": [
       "<pymongo.results.InsertManyResult at 0x11e720888>"
      ]
     },
     "execution_count": 10,
     "metadata": {},
     "output_type": "execute_result"
    }
   ],
   "source": [
    "db.sustainability.insert_many(tweets)"
   ]
  },
  {
   "cell_type": "code",
   "execution_count": 11,
   "metadata": {},
   "outputs": [
    {
     "name": "stdout",
     "output_type": "stream",
     "text": [
      "Number of tweets =  100\n"
     ]
    }
   ],
   "source": [
    "print(\"Number of tweets = \", len(tweets))"
   ]
  },
  {
   "cell_type": "code",
   "execution_count": 12,
   "metadata": {},
   "outputs": [
    {
     "data": {
      "text/plain": [
       "<pymongo.results.InsertManyResult at 0x11e6759c8>"
      ]
     },
     "execution_count": 12,
     "metadata": {},
     "output_type": "execute_result"
    }
   ],
   "source": [
    "#next 100 off previous request\n",
    "\n",
    "next_page_url = \"https://api.twitter.com/1.1/search/tweets.json\" + response.json()['search_metadata']['next_results']\n",
    "\n",
    "response = requests.get(next_page_url, auth=oauth)\n",
    "\n",
    "more_tweets = response.json()['statuses']\n",
    "\n",
    "db.sustainability.insert_many(more_tweets)"
   ]
  },
  {
   "cell_type": "code",
   "execution_count": 13,
   "metadata": {},
   "outputs": [
    {
     "data": {
      "text/plain": [
       "<pymongo.results.InsertManyResult at 0x11db9f8c8>"
      ]
     },
     "execution_count": 13,
     "metadata": {},
     "output_type": "execute_result"
    }
   ],
   "source": [
    "#next 100 off previous request\n",
    "\n",
    "next_page_url = \"https://api.twitter.com/1.1/search/tweets.json\" + response.json()['search_metadata']['next_results']\n",
    "\n",
    "response = requests.get(next_page_url, auth=oauth)\n",
    "\n",
    "more_tweets = response.json()['statuses']\n",
    "\n",
    "db.sustainability.insert_many(more_tweets)"
   ]
  },
  {
   "cell_type": "code",
   "execution_count": 14,
   "metadata": {},
   "outputs": [
    {
     "data": {
      "text/plain": [
       "<pymongo.results.InsertManyResult at 0x11f919048>"
      ]
     },
     "execution_count": 14,
     "metadata": {},
     "output_type": "execute_result"
    }
   ],
   "source": [
    "#next 100 off previous request\n",
    "\n",
    "next_page_url = \"https://api.twitter.com/1.1/search/tweets.json\" + response.json()['search_metadata']['next_results']\n",
    "\n",
    "response = requests.get(next_page_url, auth=oauth)\n",
    "\n",
    "more_tweets = response.json()['statuses']\n",
    "\n",
    "db.sustainability.insert_many(more_tweets)"
   ]
  },
  {
   "cell_type": "code",
   "execution_count": 15,
   "metadata": {},
   "outputs": [
    {
     "data": {
      "text/plain": [
       "<pymongo.results.InsertManyResult at 0x11e151bc8>"
      ]
     },
     "execution_count": 15,
     "metadata": {},
     "output_type": "execute_result"
    }
   ],
   "source": [
    "#next 100 off previous request\n",
    "\n",
    "next_page_url = \"https://api.twitter.com/1.1/search/tweets.json\" + response.json()['search_metadata']['next_results']\n",
    "\n",
    "response = requests.get(next_page_url, auth=oauth)\n",
    "\n",
    "more_tweets = response.json()['statuses']\n",
    "\n",
    "db.sustainability.insert_many(more_tweets)"
   ]
  },
  {
   "cell_type": "code",
   "execution_count": 16,
   "metadata": {},
   "outputs": [
    {
     "data": {
      "text/plain": [
       "<pymongo.results.InsertManyResult at 0x11e151b08>"
      ]
     },
     "execution_count": 16,
     "metadata": {},
     "output_type": "execute_result"
    }
   ],
   "source": [
    "#next 100 off previous request\n",
    "\n",
    "next_page_url = \"https://api.twitter.com/1.1/search/tweets.json\" + response.json()['search_metadata']['next_results']\n",
    "\n",
    "response = requests.get(next_page_url, auth=oauth)\n",
    "\n",
    "more_tweets = response.json()['statuses']\n",
    "\n",
    "db.sustainability.insert_many(more_tweets)"
   ]
  },
  {
   "cell_type": "code",
   "execution_count": 17,
   "metadata": {},
   "outputs": [
    {
     "data": {
      "text/plain": [
       "<pymongo.results.InsertManyResult at 0x11dfce5c8>"
      ]
     },
     "execution_count": 17,
     "metadata": {},
     "output_type": "execute_result"
    }
   ],
   "source": [
    "#next 100 off previous request\n",
    "\n",
    "next_page_url = \"https://api.twitter.com/1.1/search/tweets.json\" + response.json()['search_metadata']['next_results']\n",
    "\n",
    "response = requests.get(next_page_url, auth=oauth)\n",
    "\n",
    "more_tweets = response.json()['statuses']\n",
    "\n",
    "db.sustainability.insert_many(more_tweets)"
   ]
  },
  {
   "cell_type": "code",
   "execution_count": 18,
   "metadata": {},
   "outputs": [
    {
     "data": {
      "text/plain": [
       "<pymongo.results.InsertManyResult at 0x11debc288>"
      ]
     },
     "execution_count": 18,
     "metadata": {},
     "output_type": "execute_result"
    }
   ],
   "source": [
    "#next 100 off previous request\n",
    "\n",
    "next_page_url = \"https://api.twitter.com/1.1/search/tweets.json\" + response.json()['search_metadata']['next_results']\n",
    "\n",
    "response = requests.get(next_page_url, auth=oauth)\n",
    "\n",
    "more_tweets = response.json()['statuses']\n",
    "\n",
    "db.sustainability.insert_many(more_tweets)"
   ]
  },
  {
   "cell_type": "code",
   "execution_count": 19,
   "metadata": {},
   "outputs": [
    {
     "data": {
      "text/plain": [
       "<pymongo.results.InsertManyResult at 0x11e675b88>"
      ]
     },
     "execution_count": 19,
     "metadata": {},
     "output_type": "execute_result"
    }
   ],
   "source": [
    "#next 100 off previous request\n",
    "\n",
    "next_page_url = \"https://api.twitter.com/1.1/search/tweets.json\" + response.json()['search_metadata']['next_results']\n",
    "\n",
    "response = requests.get(next_page_url, auth=oauth)\n",
    "\n",
    "more_tweets = response.json()['statuses']\n",
    "\n",
    "db.sustainability.insert_many(more_tweets)"
   ]
  },
  {
   "cell_type": "code",
   "execution_count": 20,
   "metadata": {},
   "outputs": [
    {
     "data": {
      "text/plain": [
       "<pymongo.results.InsertManyResult at 0x11f8cc948>"
      ]
     },
     "execution_count": 20,
     "metadata": {},
     "output_type": "execute_result"
    }
   ],
   "source": [
    "#next 100 off previous request\n",
    "\n",
    "next_page_url = \"https://api.twitter.com/1.1/search/tweets.json\" + response.json()['search_metadata']['next_results']\n",
    "\n",
    "response = requests.get(next_page_url, auth=oauth)\n",
    "\n",
    "more_tweets = response.json()['statuses']\n",
    "\n",
    "db.sustainability.insert_many(more_tweets)"
   ]
  },
  {
   "cell_type": "code",
   "execution_count": 21,
   "metadata": {},
   "outputs": [
    {
     "data": {
      "text/plain": [
       "<pymongo.results.InsertManyResult at 0x10fc33608>"
      ]
     },
     "execution_count": 21,
     "metadata": {},
     "output_type": "execute_result"
    }
   ],
   "source": [
    "#next 100 off previous request\n",
    "\n",
    "next_page_url = \"https://api.twitter.com/1.1/search/tweets.json\" + response.json()['search_metadata']['next_results']\n",
    "\n",
    "response = requests.get(next_page_url, auth=oauth)\n",
    "\n",
    "more_tweets = response.json()['statuses']\n",
    "\n",
    "db.sustainability.insert_many(more_tweets)"
   ]
  },
  {
   "cell_type": "code",
   "execution_count": 22,
   "metadata": {},
   "outputs": [
    {
     "data": {
      "text/plain": [
       "<pymongo.results.InsertManyResult at 0x11f927e48>"
      ]
     },
     "execution_count": 22,
     "metadata": {},
     "output_type": "execute_result"
    }
   ],
   "source": [
    "#next 100 off previous request\n",
    "\n",
    "next_page_url = \"https://api.twitter.com/1.1/search/tweets.json\" + response.json()['search_metadata']['next_results']\n",
    "\n",
    "response = requests.get(next_page_url, auth=oauth)\n",
    "\n",
    "more_tweets = response.json()['statuses']\n",
    "\n",
    "db.sustainability.insert_many(more_tweets)"
   ]
  },
  {
   "cell_type": "code",
   "execution_count": 23,
   "metadata": {},
   "outputs": [
    {
     "data": {
      "text/plain": [
       "<pymongo.results.InsertManyResult at 0x10fce9e88>"
      ]
     },
     "execution_count": 23,
     "metadata": {},
     "output_type": "execute_result"
    }
   ],
   "source": [
    "#next 100 off previous request\n",
    "\n",
    "next_page_url = \"https://api.twitter.com/1.1/search/tweets.json\" + response.json()['search_metadata']['next_results']\n",
    "\n",
    "response = requests.get(next_page_url, auth=oauth)\n",
    "\n",
    "more_tweets = response.json()['statuses']\n",
    "\n",
    "db.sustainability.insert_many(more_tweets)"
   ]
  },
  {
   "cell_type": "code",
   "execution_count": 24,
   "metadata": {},
   "outputs": [
    {
     "data": {
      "text/plain": [
       "<pymongo.results.InsertManyResult at 0x11f8b71c8>"
      ]
     },
     "execution_count": 24,
     "metadata": {},
     "output_type": "execute_result"
    }
   ],
   "source": [
    "#next 100 off previous request\n",
    "\n",
    "next_page_url = \"https://api.twitter.com/1.1/search/tweets.json\" + response.json()['search_metadata']['next_results']\n",
    "\n",
    "response = requests.get(next_page_url, auth=oauth)\n",
    "\n",
    "more_tweets = response.json()['statuses']\n",
    "\n",
    "db.sustainability.insert_many(more_tweets)"
   ]
  },
  {
   "cell_type": "code",
   "execution_count": 25,
   "metadata": {},
   "outputs": [
    {
     "data": {
      "text/plain": [
       "<pymongo.results.InsertManyResult at 0x11d865a08>"
      ]
     },
     "execution_count": 25,
     "metadata": {},
     "output_type": "execute_result"
    }
   ],
   "source": [
    "#next 100 off previous request\n",
    "\n",
    "next_page_url = \"https://api.twitter.com/1.1/search/tweets.json\" + response.json()['search_metadata']['next_results']\n",
    "\n",
    "response = requests.get(next_page_url, auth=oauth)\n",
    "\n",
    "more_tweets = response.json()['statuses']\n",
    "\n",
    "db.sustainability.insert_many(more_tweets)"
   ]
  },
  {
   "cell_type": "code",
   "execution_count": 26,
   "metadata": {},
   "outputs": [
    {
     "data": {
      "text/plain": [
       "<pymongo.results.InsertManyResult at 0x11f889688>"
      ]
     },
     "execution_count": 26,
     "metadata": {},
     "output_type": "execute_result"
    }
   ],
   "source": [
    "#next 100 off previous request\n",
    "\n",
    "next_page_url = \"https://api.twitter.com/1.1/search/tweets.json\" + response.json()['search_metadata']['next_results']\n",
    "\n",
    "response = requests.get(next_page_url, auth=oauth)\n",
    "\n",
    "more_tweets = response.json()['statuses']\n",
    "\n",
    "db.sustainability.insert_many(more_tweets)"
   ]
  },
  {
   "cell_type": "code",
   "execution_count": 27,
   "metadata": {},
   "outputs": [
    {
     "data": {
      "text/plain": [
       "<pymongo.results.InsertManyResult at 0x11f888488>"
      ]
     },
     "execution_count": 27,
     "metadata": {},
     "output_type": "execute_result"
    }
   ],
   "source": [
    "#next 100 off previous request\n",
    "\n",
    "next_page_url = \"https://api.twitter.com/1.1/search/tweets.json\" + response.json()['search_metadata']['next_results']\n",
    "\n",
    "response = requests.get(next_page_url, auth=oauth)\n",
    "\n",
    "more_tweets = response.json()['statuses']\n",
    "\n",
    "db.sustainability.insert_many(more_tweets)"
   ]
  },
  {
   "cell_type": "code",
   "execution_count": 28,
   "metadata": {},
   "outputs": [
    {
     "data": {
      "text/plain": [
       "<pymongo.results.InsertManyResult at 0x11d21cf48>"
      ]
     },
     "execution_count": 28,
     "metadata": {},
     "output_type": "execute_result"
    }
   ],
   "source": [
    "#next 100 off previous request\n",
    "\n",
    "next_page_url = \"https://api.twitter.com/1.1/search/tweets.json\" + response.json()['search_metadata']['next_results']\n",
    "\n",
    "response = requests.get(next_page_url, auth=oauth)\n",
    "\n",
    "more_tweets = response.json()['statuses']\n",
    "\n",
    "db.sustainability.insert_many(more_tweets)"
   ]
  },
  {
   "cell_type": "code",
   "execution_count": 43,
   "metadata": {},
   "outputs": [
    {
     "data": {
      "text/plain": [
       "<pymongo.results.InsertManyResult at 0x11f989f08>"
      ]
     },
     "execution_count": 43,
     "metadata": {},
     "output_type": "execute_result"
    }
   ],
   "source": [
    "db.sustainability.insert_many(tweets)"
   ]
  },
  {
   "cell_type": "code",
   "execution_count": 44,
   "metadata": {},
   "outputs": [
    {
     "data": {
      "text/plain": [
       "<pymongo.results.InsertManyResult at 0x11fadbec8>"
      ]
     },
     "execution_count": 44,
     "metadata": {},
     "output_type": "execute_result"
    }
   ],
   "source": [
    "#next 100 off previous request\n",
    "\n",
    "next_page_url = \"https://api.twitter.com/1.1/search/tweets.json\" + response.json()['search_metadata']['next_results']\n",
    "\n",
    "response = requests.get(next_page_url, auth=oauth)\n",
    "\n",
    "more_tweets = response.json()['statuses']\n",
    "\n",
    "db.sustainability.insert_many(more_tweets)"
   ]
  },
  {
   "cell_type": "code",
   "execution_count": 45,
   "metadata": {},
   "outputs": [
    {
     "data": {
      "text/plain": [
       "<pymongo.results.InsertManyResult at 0x11e78c048>"
      ]
     },
     "execution_count": 45,
     "metadata": {},
     "output_type": "execute_result"
    }
   ],
   "source": [
    "#next 100 off previous request\n",
    "\n",
    "next_page_url = \"https://api.twitter.com/1.1/search/tweets.json\" + response.json()['search_metadata']['next_results']\n",
    "\n",
    "response = requests.get(next_page_url, auth=oauth)\n",
    "\n",
    "more_tweets = response.json()['statuses']\n",
    "\n",
    "db.sustainability.insert_many(more_tweets)"
   ]
  },
  {
   "cell_type": "code",
   "execution_count": 46,
   "metadata": {},
   "outputs": [
    {
     "data": {
      "text/plain": [
       "<pymongo.results.InsertManyResult at 0x11f8b4f08>"
      ]
     },
     "execution_count": 46,
     "metadata": {},
     "output_type": "execute_result"
    }
   ],
   "source": [
    "#next 100 off previous request\n",
    "\n",
    "next_page_url = \"https://api.twitter.com/1.1/search/tweets.json\" + response.json()['search_metadata']['next_results']\n",
    "\n",
    "response = requests.get(next_page_url, auth=oauth)\n",
    "\n",
    "more_tweets = response.json()['statuses']\n",
    "\n",
    "db.sustainability.insert_many(more_tweets)"
   ]
  },
  {
   "cell_type": "code",
   "execution_count": 47,
   "metadata": {},
   "outputs": [
    {
     "data": {
      "text/plain": [
       "<pymongo.results.InsertManyResult at 0x11f8a6448>"
      ]
     },
     "execution_count": 47,
     "metadata": {},
     "output_type": "execute_result"
    }
   ],
   "source": [
    "#next 100 off previous request\n",
    "\n",
    "next_page_url = \"https://api.twitter.com/1.1/search/tweets.json\" + response.json()['search_metadata']['next_results']\n",
    "\n",
    "response = requests.get(next_page_url, auth=oauth)\n",
    "\n",
    "more_tweets = response.json()['statuses']\n",
    "\n",
    "db.sustainability.insert_many(more_tweets)"
   ]
  },
  {
   "cell_type": "code",
   "execution_count": 48,
   "metadata": {},
   "outputs": [
    {
     "data": {
      "text/plain": [
       "<pymongo.results.InsertManyResult at 0x11f8a6088>"
      ]
     },
     "execution_count": 48,
     "metadata": {},
     "output_type": "execute_result"
    }
   ],
   "source": [
    "#next 100 off previous request\n",
    "\n",
    "next_page_url = \"https://api.twitter.com/1.1/search/tweets.json\" + response.json()['search_metadata']['next_results']\n",
    "\n",
    "response = requests.get(next_page_url, auth=oauth)\n",
    "\n",
    "more_tweets = response.json()['statuses']\n",
    "\n",
    "db.sustainability.insert_many(more_tweets)"
   ]
  },
  {
   "cell_type": "code",
   "execution_count": 49,
   "metadata": {},
   "outputs": [
    {
     "data": {
      "text/plain": [
       "<pymongo.results.InsertManyResult at 0x11f8a6508>"
      ]
     },
     "execution_count": 49,
     "metadata": {},
     "output_type": "execute_result"
    }
   ],
   "source": [
    "#next 100 off previous request\n",
    "\n",
    "next_page_url = \"https://api.twitter.com/1.1/search/tweets.json\" + response.json()['search_metadata']['next_results']\n",
    "\n",
    "response = requests.get(next_page_url, auth=oauth)\n",
    "\n",
    "more_tweets = response.json()['statuses']\n",
    "\n",
    "db.sustainability.insert_many(more_tweets)"
   ]
  },
  {
   "cell_type": "code",
   "execution_count": 51,
   "metadata": {},
   "outputs": [
    {
     "ename": "KeyError",
     "evalue": "'next_results'",
     "output_type": "error",
     "traceback": [
      "\u001b[0;31m---------------------------------------------------------------------------\u001b[0m",
      "\u001b[0;31mKeyError\u001b[0m                                  Traceback (most recent call last)",
      "\u001b[0;32m<ipython-input-51-f1d07a7b3761>\u001b[0m in \u001b[0;36m<module>\u001b[0;34m()\u001b[0m\n\u001b[1;32m      1\u001b[0m \u001b[0;31m#next 100 off previous request\u001b[0m\u001b[0;34m\u001b[0m\u001b[0;34m\u001b[0m\u001b[0m\n\u001b[1;32m      2\u001b[0m \u001b[0;34m\u001b[0m\u001b[0m\n\u001b[0;32m----> 3\u001b[0;31m \u001b[0mnext_page_url\u001b[0m \u001b[0;34m=\u001b[0m \u001b[0;34m\"https://api.twitter.com/1.1/search/tweets.json\"\u001b[0m \u001b[0;34m+\u001b[0m \u001b[0mresponse\u001b[0m\u001b[0;34m.\u001b[0m\u001b[0mjson\u001b[0m\u001b[0;34m(\u001b[0m\u001b[0;34m)\u001b[0m\u001b[0;34m[\u001b[0m\u001b[0;34m'search_metadata'\u001b[0m\u001b[0;34m]\u001b[0m\u001b[0;34m[\u001b[0m\u001b[0;34m'next_results'\u001b[0m\u001b[0;34m]\u001b[0m\u001b[0;34m\u001b[0m\u001b[0m\n\u001b[0m\u001b[1;32m      4\u001b[0m \u001b[0;34m\u001b[0m\u001b[0m\n\u001b[1;32m      5\u001b[0m \u001b[0mresponse\u001b[0m \u001b[0;34m=\u001b[0m \u001b[0mrequests\u001b[0m\u001b[0;34m.\u001b[0m\u001b[0mget\u001b[0m\u001b[0;34m(\u001b[0m\u001b[0mnext_page_url\u001b[0m\u001b[0;34m,\u001b[0m \u001b[0mauth\u001b[0m\u001b[0;34m=\u001b[0m\u001b[0moauth\u001b[0m\u001b[0;34m)\u001b[0m\u001b[0;34m\u001b[0m\u001b[0m\n",
      "\u001b[0;31mKeyError\u001b[0m: 'next_results'"
     ]
    }
   ],
   "source": [
    "#next 100 off previous request\n",
    "\n",
    "next_page_url = \"https://api.twitter.com/1.1/search/tweets.json\" + response.json()['search_metadata']['next_results']\n",
    "\n",
    "response = requests.get(next_page_url, auth=oauth)\n",
    "\n",
    "more_tweets = response.json()['statuses']\n",
    "\n",
    "db.sustainability.insert_many(more_tweets)"
   ]
  },
  {
   "cell_type": "code",
   "execution_count": null,
   "metadata": {},
   "outputs": [],
   "source": [
    "#next 100 off previous request\n",
    "\n",
    "next_page_url = \"https://api.twitter.com/1.1/search/tweets.json\" + response.json()['search_metadata']['next_results']\n",
    "\n",
    "response = requests.get(next_page_url, auth=oauth)\n",
    "\n",
    "more_tweets = response.json()['statuses']\n",
    "\n",
    "db.sustainability.insert_many(more_tweets)"
   ]
  },
  {
   "cell_type": "code",
   "execution_count": null,
   "metadata": {},
   "outputs": [],
   "source": [
    "#next 100 off previous request\n",
    "\n",
    "next_page_url = \"https://api.twitter.com/1.1/search/tweets.json\" + response.json()['search_metadata']['next_results']\n",
    "\n",
    "response = requests.get(next_page_url, auth=oauth)\n",
    "\n",
    "more_tweets = response.json()['statuses']\n",
    "\n",
    "db.sustainability.insert_many(more_tweets)"
   ]
  },
  {
   "cell_type": "code",
   "execution_count": null,
   "metadata": {},
   "outputs": [],
   "source": [
    "#next 100 off previous request\n",
    "\n",
    "next_page_url = \"https://api.twitter.com/1.1/search/tweets.json\" + response.json()['search_metadata']['next_results']\n",
    "\n",
    "response = requests.get(next_page_url, auth=oauth)\n",
    "\n",
    "more_tweets = response.json()['statuses']\n",
    "\n",
    "db.sustainability.insert_many(more_tweets)"
   ]
  },
  {
   "cell_type": "code",
   "execution_count": null,
   "metadata": {},
   "outputs": [],
   "source": [
    "#next 100 off previous request\n",
    "\n",
    "next_page_url = \"https://api.twitter.com/1.1/search/tweets.json\" + response.json()['search_metadata']['next_results']\n",
    "\n",
    "response = requests.get(next_page_url, auth=oauth)\n",
    "\n",
    "more_tweets = response.json()['statuses']\n",
    "\n",
    "db.sustainability.insert_many(more_tweets)"
   ]
  },
  {
   "cell_type": "code",
   "execution_count": null,
   "metadata": {},
   "outputs": [],
   "source": [
    "#next 100 off previous request\n",
    "\n",
    "next_page_url = \"https://api.twitter.com/1.1/search/tweets.json\" + response.json()['search_metadata']['next_results']\n",
    "\n",
    "response = requests.get(next_page_url, auth=oauth)\n",
    "\n",
    "more_tweets = response.json()['statuses']\n",
    "\n",
    "db.sustainability.insert_many(more_tweets)"
   ]
  },
  {
   "cell_type": "code",
   "execution_count": null,
   "metadata": {},
   "outputs": [],
   "source": [
    "#next 100 off previous request\n",
    "\n",
    "next_page_url = \"https://api.twitter.com/1.1/search/tweets.json\" + response.json()['search_metadata']['next_results']\n",
    "\n",
    "response = requests.get(next_page_url, auth=oauth)\n",
    "\n",
    "more_tweets = response.json()['statuses']\n",
    "\n",
    "db.sustainability.insert_many(more_tweets)"
   ]
  },
  {
   "cell_type": "code",
   "execution_count": null,
   "metadata": {},
   "outputs": [],
   "source": [
    "#next 100 off previous request\n",
    "\n",
    "next_page_url = \"https://api.twitter.com/1.1/search/tweets.json\" + response.json()['search_metadata']['next_results']\n",
    "\n",
    "response = requests.get(next_page_url, auth=oauth)\n",
    "\n",
    "more_tweets = response.json()['statuses']\n",
    "\n",
    "db.sustainability.insert_many(more_tweets)"
   ]
  },
  {
   "cell_type": "code",
   "execution_count": null,
   "metadata": {},
   "outputs": [],
   "source": [
    "#next 100 off previous request\n",
    "\n",
    "next_page_url = \"https://api.twitter.com/1.1/search/tweets.json\" + response.json()['search_metadata']['next_results']\n",
    "\n",
    "response = requests.get(next_page_url, auth=oauth)\n",
    "\n",
    "more_tweets = response.json()['statuses']\n",
    "\n",
    "db.sustainability.insert_many(more_tweets)"
   ]
  },
  {
   "cell_type": "code",
   "execution_count": null,
   "metadata": {},
   "outputs": [],
   "source": [
    "#next 100 off previous request\n",
    "\n",
    "next_page_url = \"https://api.twitter.com/1.1/search/tweets.json\" + response.json()['search_metadata']['next_results']\n",
    "\n",
    "response = requests.get(next_page_url, auth=oauth)\n",
    "\n",
    "more_tweets = response.json()['statuses']\n",
    "\n",
    "db.sustainability.insert_many(more_tweets)"
   ]
  },
  {
   "cell_type": "code",
   "execution_count": null,
   "metadata": {},
   "outputs": [],
   "source": [
    "#next 100 off previous request\n",
    "\n",
    "next_page_url = \"https://api.twitter.com/1.1/search/tweets.json\" + response.json()['search_metadata']['next_results']\n",
    "\n",
    "response = requests.get(next_page_url, auth=oauth)\n",
    "\n",
    "more_tweets = response.json()['statuses']\n",
    "\n",
    "db.sustainability.insert_many(more_tweets)"
   ]
  },
  {
   "cell_type": "code",
   "execution_count": null,
   "metadata": {},
   "outputs": [],
   "source": [
    "#next 100 off previous request\n",
    "\n",
    "next_page_url = \"https://api.twitter.com/1.1/search/tweets.json\" + response.json()['search_metadata']['next_results']\n",
    "\n",
    "response = requests.get(next_page_url, auth=oauth)\n",
    "\n",
    "more_tweets = response.json()['statuses']\n",
    "\n",
    "db.sustainability.insert_many(more_tweets)"
   ]
  },
  {
   "cell_type": "code",
   "execution_count": null,
   "metadata": {},
   "outputs": [],
   "source": [
    "#next 100 off previous request\n",
    "\n",
    "next_page_url = \"https://api.twitter.com/1.1/search/tweets.json\" + response.json()['search_metadata']['next_results']\n",
    "\n",
    "response = requests.get(next_page_url, auth=oauth)\n",
    "\n",
    "more_tweets = response.json()['statuses']\n",
    "\n",
    "db.sustainability.insert_many(more_tweets)"
   ]
  },
  {
   "cell_type": "code",
   "execution_count": null,
   "metadata": {},
   "outputs": [],
   "source": [
    "#next 100 off previous request\n",
    "\n",
    "next_page_url = \"https://api.twitter.com/1.1/search/tweets.json\" + response.json()['search_metadata']['next_results']\n",
    "\n",
    "response = requests.get(next_page_url, auth=oauth)\n",
    "\n",
    "more_tweets = response.json()['statuses']\n",
    "\n",
    "db.sustainability.insert_many(more_tweets)"
   ]
  },
  {
   "cell_type": "code",
   "execution_count": null,
   "metadata": {},
   "outputs": [],
   "source": [
    "#next 100 off previous request\n",
    "\n",
    "next_page_url = \"https://api.twitter.com/1.1/search/tweets.json\" + response.json()['search_metadata']['next_results']\n",
    "\n",
    "response = requests.get(next_page_url, auth=oauth)\n",
    "\n",
    "more_tweets = response.json()['statuses']\n",
    "\n",
    "db.sustainability.insert_many(more_tweets)"
   ]
  },
  {
   "cell_type": "code",
   "execution_count": null,
   "metadata": {},
   "outputs": [],
   "source": [
    "#next 100 off previous request\n",
    "\n",
    "next_page_url = \"https://api.twitter.com/1.1/search/tweets.json\" + response.json()['search_metadata']['next_results']\n",
    "\n",
    "response = requests.get(next_page_url, auth=oauth)\n",
    "\n",
    "more_tweets = response.json()['statuses']\n",
    "\n",
    "db.sustainability.insert_many(more_tweets)"
   ]
  },
  {
   "cell_type": "code",
   "execution_count": null,
   "metadata": {},
   "outputs": [],
   "source": [
    "#next 100 off previous request\n",
    "\n",
    "next_page_url = \"https://api.twitter.com/1.1/search/tweets.json\" + response.json()['search_metadata']['next_results']\n",
    "\n",
    "response = requests.get(next_page_url, auth=oauth)\n",
    "\n",
    "more_tweets = response.json()['statuses']\n",
    "\n",
    "db.sustainability.insert_many(more_tweets)"
   ]
  },
  {
   "cell_type": "code",
   "execution_count": null,
   "metadata": {},
   "outputs": [],
   "source": [
    "#next 100 off previous request\n",
    "\n",
    "next_page_url = \"https://api.twitter.com/1.1/search/tweets.json\" + response.json()['search_metadata']['next_results']\n",
    "\n",
    "response = requests.get(next_page_url, auth=oauth)\n",
    "\n",
    "more_tweets = response.json()['statuses']\n",
    "\n",
    "db.sustainability.insert_many(more_tweets)"
   ]
  },
  {
   "cell_type": "code",
   "execution_count": null,
   "metadata": {},
   "outputs": [],
   "source": [
    "#next 100 off previous request\n",
    "\n",
    "next_page_url = \"https://api.twitter.com/1.1/search/tweets.json\" + response.json()['search_metadata']['next_results']\n",
    "\n",
    "response = requests.get(next_page_url, auth=oauth)\n",
    "\n",
    "more_tweets = response.json()['statuses']\n",
    "\n",
    "db.sustainability.insert_many(more_tweets)"
   ]
  },
  {
   "cell_type": "code",
   "execution_count": null,
   "metadata": {},
   "outputs": [],
   "source": [
    "#next 100 off previous request\n",
    "\n",
    "next_page_url = \"https://api.twitter.com/1.1/search/tweets.json\" + response.json()['search_metadata']['next_results']\n",
    "\n",
    "response = requests.get(next_page_url, auth=oauth)\n",
    "\n",
    "more_tweets = response.json()['statuses']\n",
    "\n",
    "db.sustainability.insert_many(more_tweets)"
   ]
  },
  {
   "cell_type": "code",
   "execution_count": null,
   "metadata": {},
   "outputs": [],
   "source": [
    "#next 100 off previous request\n",
    "\n",
    "next_page_url = \"https://api.twitter.com/1.1/search/tweets.json\" + response.json()['search_metadata']['next_results']\n",
    "\n",
    "response = requests.get(next_page_url, auth=oauth)\n",
    "\n",
    "more_tweets = response.json()['statuses']\n",
    "\n",
    "db.sustainability.insert_many(more_tweets)"
   ]
  },
  {
   "cell_type": "code",
   "execution_count": null,
   "metadata": {},
   "outputs": [],
   "source": [
    "#next 100 off previous request\n",
    "\n",
    "next_page_url = \"https://api.twitter.com/1.1/search/tweets.json\" + response.json()['search_metadata']['next_results']\n",
    "\n",
    "response = requests.get(next_page_url, auth=oauth)\n",
    "\n",
    "more_tweets = response.json()['statuses']\n",
    "\n",
    "db.sustainability.insert_many(more_tweets)"
   ]
  },
  {
   "cell_type": "code",
   "execution_count": null,
   "metadata": {},
   "outputs": [],
   "source": [
    "#next 100 off previous request\n",
    "\n",
    "next_page_url = \"https://api.twitter.com/1.1/search/tweets.json\" + response.json()['search_metadata']['next_results']\n",
    "\n",
    "response = requests.get(next_page_url, auth=oauth)\n",
    "\n",
    "more_tweets = response.json()['statuses']\n",
    "\n",
    "db.sustainability.insert_many(more_tweets)"
   ]
  },
  {
   "cell_type": "code",
   "execution_count": null,
   "metadata": {},
   "outputs": [],
   "source": [
    "#next 100 off previous request\n",
    "\n",
    "next_page_url = \"https://api.twitter.com/1.1/search/tweets.json\" + response.json()['search_metadata']['next_results']\n",
    "\n",
    "response = requests.get(next_page_url, auth=oauth)\n",
    "\n",
    "more_tweets = response.json()['statuses']\n",
    "\n",
    "db.sustainability.insert_many(more_tweets)"
   ]
  },
  {
   "cell_type": "code",
   "execution_count": null,
   "metadata": {},
   "outputs": [],
   "source": [
    "#next 100 off previous request\n",
    "\n",
    "next_page_url = \"https://api.twitter.com/1.1/search/tweets.json\" + response.json()['search_metadata']['next_results']\n",
    "\n",
    "response = requests.get(next_page_url, auth=oauth)\n",
    "\n",
    "more_tweets = response.json()['statuses']\n",
    "\n",
    "db.sustainability.insert_many(more_tweets)"
   ]
  },
  {
   "cell_type": "code",
   "execution_count": null,
   "metadata": {},
   "outputs": [],
   "source": [
    "#next 100 off previous request\n",
    "\n",
    "next_page_url = \"https://api.twitter.com/1.1/search/tweets.json\" + response.json()['search_metadata']['next_results']\n",
    "\n",
    "response = requests.get(next_page_url, auth=oauth)\n",
    "\n",
    "more_tweets = response.json()['statuses']\n",
    "\n",
    "db.sustainability.insert_many(more_tweets)"
   ]
  },
  {
   "cell_type": "code",
   "execution_count": null,
   "metadata": {},
   "outputs": [],
   "source": [
    "#next 100 off previous request\n",
    "\n",
    "next_page_url = \"https://api.twitter.com/1.1/search/tweets.json\" + response.json()['search_metadata']['next_results']\n",
    "\n",
    "response = requests.get(next_page_url, auth=oauth)\n",
    "\n",
    "more_tweets = response.json()['statuses']\n",
    "\n",
    "db.sustainability.insert_many(more_tweets)"
   ]
  },
  {
   "cell_type": "code",
   "execution_count": null,
   "metadata": {},
   "outputs": [],
   "source": [
    "#next 100 off previous request\n",
    "\n",
    "next_page_url = \"https://api.twitter.com/1.1/search/tweets.json\" + response.json()['search_metadata']['next_results']\n",
    "\n",
    "response = requests.get(next_page_url, auth=oauth)\n",
    "\n",
    "more_tweets = response.json()['statuses']\n",
    "\n",
    "db.sustainability.insert_many(more_tweets)"
   ]
  },
  {
   "cell_type": "code",
   "execution_count": null,
   "metadata": {},
   "outputs": [],
   "source": [
    "#next 100 off previous request\n",
    "\n",
    "next_page_url = \"https://api.twitter.com/1.1/search/tweets.json\" + response.json()['search_metadata']['next_results']\n",
    "\n",
    "response = requests.get(next_page_url, auth=oauth)\n",
    "\n",
    "more_tweets = response.json()['statuses']\n",
    "\n",
    "db.sustainability.insert_many(more_tweets)"
   ]
  },
  {
   "cell_type": "code",
   "execution_count": null,
   "metadata": {},
   "outputs": [],
   "source": [
    "#next 100 off previous request\n",
    "\n",
    "next_page_url = \"https://api.twitter.com/1.1/search/tweets.json\" + response.json()['search_metadata']['next_results']\n",
    "\n",
    "response = requests.get(next_page_url, auth=oauth)\n",
    "\n",
    "more_tweets = response.json()['statuses']\n",
    "\n",
    "db.sustainability.insert_many(more_tweets)"
   ]
  },
  {
   "cell_type": "code",
   "execution_count": null,
   "metadata": {},
   "outputs": [],
   "source": [
    "#next 100 off previous request\n",
    "\n",
    "next_page_url = \"https://api.twitter.com/1.1/search/tweets.json\" + response.json()['search_metadata']['next_results']\n",
    "\n",
    "response = requests.get(next_page_url, auth=oauth)\n",
    "\n",
    "more_tweets = response.json()['statuses']\n",
    "\n",
    "db.sustainability.insert_many(more_tweets)"
   ]
  },
  {
   "cell_type": "code",
   "execution_count": null,
   "metadata": {},
   "outputs": [],
   "source": [
    "#next 100 off previous request\n",
    "\n",
    "next_page_url = \"https://api.twitter.com/1.1/search/tweets.json\" + response.json()['search_metadata']['next_results']\n",
    "\n",
    "response = requests.get(next_page_url, auth=oauth)\n",
    "\n",
    "more_tweets = response.json()['statuses']\n",
    "\n",
    "db.sustainability.insert_many(more_tweets)"
   ]
  },
  {
   "cell_type": "code",
   "execution_count": null,
   "metadata": {},
   "outputs": [],
   "source": [
    "#next 100 off previous request\n",
    "\n",
    "next_page_url = \"https://api.twitter.com/1.1/search/tweets.json\" + response.json()['search_metadata']['next_results']\n",
    "\n",
    "response = requests.get(next_page_url, auth=oauth)\n",
    "\n",
    "more_tweets = response.json()['statuses']\n",
    "\n",
    "db.sustainability.insert_many(more_tweets)"
   ]
  },
  {
   "cell_type": "code",
   "execution_count": null,
   "metadata": {},
   "outputs": [],
   "source": [
    "#next 100 off previous request\n",
    "\n",
    "next_page_url = \"https://api.twitter.com/1.1/search/tweets.json\" + response.json()['search_metadata']['next_results']\n",
    "\n",
    "response = requests.get(next_page_url, auth=oauth)\n",
    "\n",
    "more_tweets = response.json()['statuses']\n",
    "\n",
    "db.sustainability.insert_many(more_tweets)"
   ]
  },
  {
   "cell_type": "code",
   "execution_count": null,
   "metadata": {},
   "outputs": [],
   "source": [
    "#next 100 off previous request\n",
    "\n",
    "next_page_url = \"https://api.twitter.com/1.1/search/tweets.json\" + response.json()['search_metadata']['next_results']\n",
    "\n",
    "response = requests.get(next_page_url, auth=oauth)\n",
    "\n",
    "more_tweets = response.json()['statuses']\n",
    "\n",
    "db.sustainability.insert_many(more_tweets)"
   ]
  },
  {
   "cell_type": "code",
   "execution_count": null,
   "metadata": {},
   "outputs": [],
   "source": [
    "#next 100 off previous request\n",
    "\n",
    "next_page_url = \"https://api.twitter.com/1.1/search/tweets.json\" + response.json()['search_metadata']['next_results']\n",
    "\n",
    "response = requests.get(next_page_url, auth=oauth)\n",
    "\n",
    "more_tweets = response.json()['statuses']\n",
    "\n",
    "db.sustainability.insert_many(more_tweets)"
   ]
  },
  {
   "cell_type": "code",
   "execution_count": null,
   "metadata": {},
   "outputs": [],
   "source": [
    "#next 100 off previous request\n",
    "\n",
    "next_page_url = \"https://api.twitter.com/1.1/search/tweets.json\" + response.json()['search_metadata']['next_results']\n",
    "\n",
    "response = requests.get(next_page_url, auth=oauth)\n",
    "\n",
    "more_tweets = response.json()['statuses']\n",
    "\n",
    "db.sustainability.insert_many(more_tweets)"
   ]
  },
  {
   "cell_type": "code",
   "execution_count": null,
   "metadata": {},
   "outputs": [],
   "source": [
    "#next 100 off previous request\n",
    "\n",
    "next_page_url = \"https://api.twitter.com/1.1/search/tweets.json\" + response.json()['search_metadata']['next_results']\n",
    "\n",
    "response = requests.get(next_page_url, auth=oauth)\n",
    "\n",
    "more_tweets = response.json()['statuses']\n",
    "\n",
    "db.sustainability.insert_many(more_tweets)"
   ]
  },
  {
   "cell_type": "code",
   "execution_count": null,
   "metadata": {},
   "outputs": [],
   "source": [
    "#next 100 off previous request\n",
    "\n",
    "next_page_url = \"https://api.twitter.com/1.1/search/tweets.json\" + response.json()['search_metadata']['next_results']\n",
    "\n",
    "response = requests.get(next_page_url, auth=oauth)\n",
    "\n",
    "more_tweets = response.json()['statuses']\n",
    "\n",
    "db.sustainability.insert_many(more_tweets)"
   ]
  },
  {
   "cell_type": "code",
   "execution_count": null,
   "metadata": {},
   "outputs": [],
   "source": [
    "#next 100 off previous request\n",
    "\n",
    "next_page_url = \"https://api.twitter.com/1.1/search/tweets.json\" + response.json()['search_metadata']['next_results']\n",
    "\n",
    "response = requests.get(next_page_url, auth=oauth)\n",
    "\n",
    "more_tweets = response.json()['statuses']\n",
    "\n",
    "db.sustainability.insert_many(more_tweets)"
   ]
  },
  {
   "cell_type": "code",
   "execution_count": null,
   "metadata": {},
   "outputs": [],
   "source": []
  },
  {
   "cell_type": "code",
   "execution_count": null,
   "metadata": {},
   "outputs": [],
   "source": []
  },
  {
   "cell_type": "code",
   "execution_count": null,
   "metadata": {},
   "outputs": [],
   "source": []
  },
  {
   "cell_type": "code",
   "execution_count": null,
   "metadata": {},
   "outputs": [],
   "source": []
  },
  {
   "cell_type": "code",
   "execution_count": null,
   "metadata": {},
   "outputs": [],
   "source": []
  },
  {
   "cell_type": "code",
   "execution_count": null,
   "metadata": {},
   "outputs": [],
   "source": []
  },
  {
   "cell_type": "code",
   "execution_count": null,
   "metadata": {},
   "outputs": [],
   "source": []
  },
  {
   "cell_type": "code",
   "execution_count": null,
   "metadata": {},
   "outputs": [],
   "source": []
  },
  {
   "cell_type": "code",
   "execution_count": null,
   "metadata": {},
   "outputs": [],
   "source": []
  },
  {
   "cell_type": "code",
   "execution_count": null,
   "metadata": {},
   "outputs": [],
   "source": []
  },
  {
   "cell_type": "code",
   "execution_count": null,
   "metadata": {},
   "outputs": [],
   "source": []
  },
  {
   "cell_type": "code",
   "execution_count": null,
   "metadata": {},
   "outputs": [],
   "source": []
  },
  {
   "cell_type": "code",
   "execution_count": null,
   "metadata": {},
   "outputs": [],
   "source": []
  },
  {
   "cell_type": "code",
   "execution_count": null,
   "metadata": {},
   "outputs": [],
   "source": []
  },
  {
   "cell_type": "code",
   "execution_count": null,
   "metadata": {},
   "outputs": [],
   "source": []
  },
  {
   "cell_type": "code",
   "execution_count": null,
   "metadata": {},
   "outputs": [],
   "source": []
  },
  {
   "cell_type": "code",
   "execution_count": null,
   "metadata": {},
   "outputs": [],
   "source": []
  },
  {
   "cell_type": "code",
   "execution_count": null,
   "metadata": {},
   "outputs": [],
   "source": []
  },
  {
   "cell_type": "code",
   "execution_count": null,
   "metadata": {},
   "outputs": [],
   "source": []
  },
  {
   "cell_type": "code",
   "execution_count": null,
   "metadata": {},
   "outputs": [],
   "source": []
  },
  {
   "cell_type": "code",
   "execution_count": null,
   "metadata": {},
   "outputs": [],
   "source": []
  },
  {
   "cell_type": "code",
   "execution_count": null,
   "metadata": {},
   "outputs": [],
   "source": []
  },
  {
   "cell_type": "code",
   "execution_count": null,
   "metadata": {},
   "outputs": [],
   "source": []
  },
  {
   "cell_type": "code",
   "execution_count": null,
   "metadata": {},
   "outputs": [],
   "source": []
  },
  {
   "cell_type": "code",
   "execution_count": null,
   "metadata": {},
   "outputs": [],
   "source": []
  },
  {
   "cell_type": "code",
   "execution_count": null,
   "metadata": {},
   "outputs": [],
   "source": []
  },
  {
   "cell_type": "code",
   "execution_count": null,
   "metadata": {},
   "outputs": [],
   "source": []
  },
  {
   "cell_type": "code",
   "execution_count": null,
   "metadata": {},
   "outputs": [],
   "source": []
  },
  {
   "cell_type": "code",
   "execution_count": null,
   "metadata": {},
   "outputs": [],
   "source": []
  },
  {
   "cell_type": "code",
   "execution_count": null,
   "metadata": {},
   "outputs": [],
   "source": []
  },
  {
   "cell_type": "code",
   "execution_count": null,
   "metadata": {},
   "outputs": [],
   "source": []
  },
  {
   "cell_type": "code",
   "execution_count": null,
   "metadata": {},
   "outputs": [],
   "source": []
  },
  {
   "cell_type": "code",
   "execution_count": null,
   "metadata": {},
   "outputs": [],
   "source": []
  },
  {
   "cell_type": "markdown",
   "metadata": {},
   "source": [
    "**Streaming**"
   ]
  },
  {
   "cell_type": "code",
   "execution_count": 73,
   "metadata": {},
   "outputs": [],
   "source": [
    "import tweepy\n",
    "\n",
    "auth = tweepy.OAuthHandler(credentials[\"TWITTER_CONSUMER_KEY\"],\n",
    "                           credentials[\"TWITTER_CONSUMER_KEY_SECRET\"])\n",
    "auth.set_access_token(credentials[\"TWITTER_ACCESS_TOKEN\"],\n",
    "                      credentials[\"TWITTER_ACCESS_TOKEN_SECRET\"])\n",
    "\n",
    "api=tweepy.API(auth)"
   ]
  },
  {
   "cell_type": "code",
   "execution_count": 77,
   "metadata": {},
   "outputs": [
    {
     "name": "stdout",
     "output_type": "stream",
     "text": [
      "An Error has occured: 420\n",
      "An Error has occured: 420\n",
      "An Error has occured: 420\n",
      "An Error has occured: 420\n"
     ]
    },
    {
     "ename": "KeyboardInterrupt",
     "evalue": "",
     "output_type": "error",
     "traceback": [
      "\u001b[0;31m---------------------------------------------------------------------------\u001b[0m",
      "\u001b[0;31mWantReadError\u001b[0m                             Traceback (most recent call last)",
      "\u001b[0;32m/anaconda3/lib/python3.6/site-packages/urllib3/contrib/pyopenssl.py\u001b[0m in \u001b[0;36mrecv_into\u001b[0;34m(self, *args, **kwargs)\u001b[0m\n\u001b[1;32m    279\u001b[0m         \u001b[0;32mtry\u001b[0m\u001b[0;34m:\u001b[0m\u001b[0;34m\u001b[0m\u001b[0m\n\u001b[0;32m--> 280\u001b[0;31m             \u001b[0;32mreturn\u001b[0m \u001b[0mself\u001b[0m\u001b[0;34m.\u001b[0m\u001b[0mconnection\u001b[0m\u001b[0;34m.\u001b[0m\u001b[0mrecv_into\u001b[0m\u001b[0;34m(\u001b[0m\u001b[0;34m*\u001b[0m\u001b[0margs\u001b[0m\u001b[0;34m,\u001b[0m \u001b[0;34m**\u001b[0m\u001b[0mkwargs\u001b[0m\u001b[0;34m)\u001b[0m\u001b[0;34m\u001b[0m\u001b[0m\n\u001b[0m\u001b[1;32m    281\u001b[0m         \u001b[0;32mexcept\u001b[0m \u001b[0mOpenSSL\u001b[0m\u001b[0;34m.\u001b[0m\u001b[0mSSL\u001b[0m\u001b[0;34m.\u001b[0m\u001b[0mSysCallError\u001b[0m \u001b[0;32mas\u001b[0m \u001b[0me\u001b[0m\u001b[0;34m:\u001b[0m\u001b[0;34m\u001b[0m\u001b[0m\n",
      "\u001b[0;32m/anaconda3/lib/python3.6/site-packages/OpenSSL/SSL.py\u001b[0m in \u001b[0;36mrecv_into\u001b[0;34m(self, buffer, nbytes, flags)\u001b[0m\n\u001b[1;32m   1714\u001b[0m             \u001b[0mresult\u001b[0m \u001b[0;34m=\u001b[0m \u001b[0m_lib\u001b[0m\u001b[0;34m.\u001b[0m\u001b[0mSSL_read\u001b[0m\u001b[0;34m(\u001b[0m\u001b[0mself\u001b[0m\u001b[0;34m.\u001b[0m\u001b[0m_ssl\u001b[0m\u001b[0;34m,\u001b[0m \u001b[0mbuf\u001b[0m\u001b[0;34m,\u001b[0m \u001b[0mnbytes\u001b[0m\u001b[0;34m)\u001b[0m\u001b[0;34m\u001b[0m\u001b[0m\n\u001b[0;32m-> 1715\u001b[0;31m         \u001b[0mself\u001b[0m\u001b[0;34m.\u001b[0m\u001b[0m_raise_ssl_error\u001b[0m\u001b[0;34m(\u001b[0m\u001b[0mself\u001b[0m\u001b[0;34m.\u001b[0m\u001b[0m_ssl\u001b[0m\u001b[0;34m,\u001b[0m \u001b[0mresult\u001b[0m\u001b[0;34m)\u001b[0m\u001b[0;34m\u001b[0m\u001b[0m\n\u001b[0m\u001b[1;32m   1716\u001b[0m \u001b[0;34m\u001b[0m\u001b[0m\n",
      "\u001b[0;32m/anaconda3/lib/python3.6/site-packages/OpenSSL/SSL.py\u001b[0m in \u001b[0;36m_raise_ssl_error\u001b[0;34m(self, ssl, result)\u001b[0m\n\u001b[1;32m   1520\u001b[0m         \u001b[0;32mif\u001b[0m \u001b[0merror\u001b[0m \u001b[0;34m==\u001b[0m \u001b[0m_lib\u001b[0m\u001b[0;34m.\u001b[0m\u001b[0mSSL_ERROR_WANT_READ\u001b[0m\u001b[0;34m:\u001b[0m\u001b[0;34m\u001b[0m\u001b[0m\n\u001b[0;32m-> 1521\u001b[0;31m             \u001b[0;32mraise\u001b[0m \u001b[0mWantReadError\u001b[0m\u001b[0;34m(\u001b[0m\u001b[0;34m)\u001b[0m\u001b[0;34m\u001b[0m\u001b[0m\n\u001b[0m\u001b[1;32m   1522\u001b[0m         \u001b[0;32melif\u001b[0m \u001b[0merror\u001b[0m \u001b[0;34m==\u001b[0m \u001b[0m_lib\u001b[0m\u001b[0;34m.\u001b[0m\u001b[0mSSL_ERROR_WANT_WRITE\u001b[0m\u001b[0;34m:\u001b[0m\u001b[0;34m\u001b[0m\u001b[0m\n",
      "\u001b[0;31mWantReadError\u001b[0m: ",
      "\nDuring handling of the above exception, another exception occurred:\n",
      "\u001b[0;31mKeyboardInterrupt\u001b[0m                         Traceback (most recent call last)",
      "\u001b[0;32m<ipython-input-77-b5dc3d7d1284>\u001b[0m in \u001b[0;36m<module>\u001b[0;34m()\u001b[0m\n\u001b[1;32m     44\u001b[0m \u001b[0;34m\u001b[0m\u001b[0m\n\u001b[1;32m     45\u001b[0m \u001b[0mtwitter_stream\u001b[0m \u001b[0;34m=\u001b[0m \u001b[0mStream\u001b[0m\u001b[0;34m(\u001b[0m\u001b[0mauth\u001b[0m\u001b[0;34m,\u001b[0m \u001b[0mMyListener\u001b[0m\u001b[0;34m(\u001b[0m\u001b[0;34m)\u001b[0m\u001b[0;34m)\u001b[0m\u001b[0;34m\u001b[0m\u001b[0m\n\u001b[0;32m---> 46\u001b[0;31m \u001b[0mtwitter_stream\u001b[0m\u001b[0;34m.\u001b[0m\u001b[0mfilter\u001b[0m\u001b[0;34m(\u001b[0m\u001b[0mtrack\u001b[0m\u001b[0;34m=\u001b[0m\u001b[0;34m[\u001b[0m\u001b[0;34m'#sustainability'\u001b[0m\u001b[0;34m]\u001b[0m\u001b[0;34m)\u001b[0m\u001b[0;34m\u001b[0m\u001b[0m\n\u001b[0m",
      "\u001b[0;32m/anaconda3/lib/python3.6/site-packages/tweepy/streaming.py\u001b[0m in \u001b[0;36mfilter\u001b[0;34m(self, follow, track, async, locations, stall_warnings, languages, encoding, filter_level)\u001b[0m\n\u001b[1;32m    443\u001b[0m         \u001b[0mself\u001b[0m\u001b[0;34m.\u001b[0m\u001b[0msession\u001b[0m\u001b[0;34m.\u001b[0m\u001b[0mparams\u001b[0m \u001b[0;34m=\u001b[0m \u001b[0;34m{\u001b[0m\u001b[0;34m'delimited'\u001b[0m\u001b[0;34m:\u001b[0m \u001b[0;34m'length'\u001b[0m\u001b[0;34m}\u001b[0m\u001b[0;34m\u001b[0m\u001b[0m\n\u001b[1;32m    444\u001b[0m         \u001b[0mself\u001b[0m\u001b[0;34m.\u001b[0m\u001b[0mhost\u001b[0m \u001b[0;34m=\u001b[0m \u001b[0;34m'stream.twitter.com'\u001b[0m\u001b[0;34m\u001b[0m\u001b[0m\n\u001b[0;32m--> 445\u001b[0;31m         \u001b[0mself\u001b[0m\u001b[0;34m.\u001b[0m\u001b[0m_start\u001b[0m\u001b[0;34m(\u001b[0m\u001b[0masync\u001b[0m\u001b[0;34m)\u001b[0m\u001b[0;34m\u001b[0m\u001b[0m\n\u001b[0m\u001b[1;32m    446\u001b[0m \u001b[0;34m\u001b[0m\u001b[0m\n\u001b[1;32m    447\u001b[0m     def sitestream(self, follow, stall_warnings=False,\n",
      "\u001b[0;32m/anaconda3/lib/python3.6/site-packages/tweepy/streaming.py\u001b[0m in \u001b[0;36m_start\u001b[0;34m(self, async)\u001b[0m\n\u001b[1;32m    359\u001b[0m             \u001b[0mself\u001b[0m\u001b[0;34m.\u001b[0m\u001b[0m_thread\u001b[0m\u001b[0;34m.\u001b[0m\u001b[0mstart\u001b[0m\u001b[0;34m(\u001b[0m\u001b[0;34m)\u001b[0m\u001b[0;34m\u001b[0m\u001b[0m\n\u001b[1;32m    360\u001b[0m         \u001b[0;32melse\u001b[0m\u001b[0;34m:\u001b[0m\u001b[0;34m\u001b[0m\u001b[0m\n\u001b[0;32m--> 361\u001b[0;31m             \u001b[0mself\u001b[0m\u001b[0;34m.\u001b[0m\u001b[0m_run\u001b[0m\u001b[0;34m(\u001b[0m\u001b[0;34m)\u001b[0m\u001b[0;34m\u001b[0m\u001b[0m\n\u001b[0m\u001b[1;32m    362\u001b[0m \u001b[0;34m\u001b[0m\u001b[0m\n\u001b[1;32m    363\u001b[0m     \u001b[0;32mdef\u001b[0m \u001b[0mon_closed\u001b[0m\u001b[0;34m(\u001b[0m\u001b[0mself\u001b[0m\u001b[0;34m,\u001b[0m \u001b[0mresp\u001b[0m\u001b[0;34m)\u001b[0m\u001b[0;34m:\u001b[0m\u001b[0;34m\u001b[0m\u001b[0m\n",
      "\u001b[0;32m/anaconda3/lib/python3.6/site-packages/tweepy/streaming.py\u001b[0m in \u001b[0;36m_run\u001b[0;34m(self)\u001b[0m\n\u001b[1;32m    261\u001b[0m                     \u001b[0mself\u001b[0m\u001b[0;34m.\u001b[0m\u001b[0msnooze_time\u001b[0m \u001b[0;34m=\u001b[0m \u001b[0mself\u001b[0m\u001b[0;34m.\u001b[0m\u001b[0msnooze_time_step\u001b[0m\u001b[0;34m\u001b[0m\u001b[0m\n\u001b[1;32m    262\u001b[0m                     \u001b[0mself\u001b[0m\u001b[0;34m.\u001b[0m\u001b[0mlistener\u001b[0m\u001b[0;34m.\u001b[0m\u001b[0mon_connect\u001b[0m\u001b[0;34m(\u001b[0m\u001b[0;34m)\u001b[0m\u001b[0;34m\u001b[0m\u001b[0m\n\u001b[0;32m--> 263\u001b[0;31m                     \u001b[0mself\u001b[0m\u001b[0;34m.\u001b[0m\u001b[0m_read_loop\u001b[0m\u001b[0;34m(\u001b[0m\u001b[0mresp\u001b[0m\u001b[0;34m)\u001b[0m\u001b[0;34m\u001b[0m\u001b[0m\n\u001b[0m\u001b[1;32m    264\u001b[0m             \u001b[0;32mexcept\u001b[0m \u001b[0;34m(\u001b[0m\u001b[0mTimeout\u001b[0m\u001b[0;34m,\u001b[0m \u001b[0mssl\u001b[0m\u001b[0;34m.\u001b[0m\u001b[0mSSLError\u001b[0m\u001b[0;34m)\u001b[0m \u001b[0;32mas\u001b[0m \u001b[0mexc\u001b[0m\u001b[0;34m:\u001b[0m\u001b[0;34m\u001b[0m\u001b[0m\n\u001b[1;32m    265\u001b[0m                 \u001b[0;31m# This is still necessary, as a SSLError can actually be\u001b[0m\u001b[0;34m\u001b[0m\u001b[0;34m\u001b[0m\u001b[0m\n",
      "\u001b[0;32m/anaconda3/lib/python3.6/site-packages/tweepy/streaming.py\u001b[0m in \u001b[0;36m_read_loop\u001b[0;34m(self, resp)\u001b[0m\n\u001b[1;32m    311\u001b[0m             \u001b[0mlength\u001b[0m \u001b[0;34m=\u001b[0m \u001b[0;36m0\u001b[0m\u001b[0;34m\u001b[0m\u001b[0m\n\u001b[1;32m    312\u001b[0m             \u001b[0;32mwhile\u001b[0m \u001b[0;32mnot\u001b[0m \u001b[0mresp\u001b[0m\u001b[0;34m.\u001b[0m\u001b[0mraw\u001b[0m\u001b[0;34m.\u001b[0m\u001b[0mclosed\u001b[0m\u001b[0;34m:\u001b[0m\u001b[0;34m\u001b[0m\u001b[0m\n\u001b[0;32m--> 313\u001b[0;31m                 \u001b[0mline\u001b[0m \u001b[0;34m=\u001b[0m \u001b[0mbuf\u001b[0m\u001b[0;34m.\u001b[0m\u001b[0mread_line\u001b[0m\u001b[0;34m(\u001b[0m\u001b[0;34m)\u001b[0m\u001b[0;34m.\u001b[0m\u001b[0mstrip\u001b[0m\u001b[0;34m(\u001b[0m\u001b[0;34m)\u001b[0m\u001b[0;34m\u001b[0m\u001b[0m\n\u001b[0m\u001b[1;32m    314\u001b[0m                 \u001b[0;32mif\u001b[0m \u001b[0;32mnot\u001b[0m \u001b[0mline\u001b[0m\u001b[0;34m:\u001b[0m\u001b[0;34m\u001b[0m\u001b[0m\n\u001b[1;32m    315\u001b[0m                     \u001b[0mself\u001b[0m\u001b[0;34m.\u001b[0m\u001b[0mlistener\u001b[0m\u001b[0;34m.\u001b[0m\u001b[0mkeep_alive\u001b[0m\u001b[0;34m(\u001b[0m\u001b[0;34m)\u001b[0m  \u001b[0;31m# keep-alive new lines are expected\u001b[0m\u001b[0;34m\u001b[0m\u001b[0m\n",
      "\u001b[0;32m/anaconda3/lib/python3.6/site-packages/tweepy/streaming.py\u001b[0m in \u001b[0;36mread_line\u001b[0;34m(self, sep)\u001b[0m\n\u001b[1;32m    177\u001b[0m             \u001b[0;32melse\u001b[0m\u001b[0;34m:\u001b[0m\u001b[0;34m\u001b[0m\u001b[0m\n\u001b[1;32m    178\u001b[0m                 \u001b[0mstart\u001b[0m \u001b[0;34m=\u001b[0m \u001b[0mlen\u001b[0m\u001b[0;34m(\u001b[0m\u001b[0mself\u001b[0m\u001b[0;34m.\u001b[0m\u001b[0m_buffer\u001b[0m\u001b[0;34m)\u001b[0m\u001b[0;34m\u001b[0m\u001b[0m\n\u001b[0;32m--> 179\u001b[0;31m             \u001b[0mself\u001b[0m\u001b[0;34m.\u001b[0m\u001b[0m_buffer\u001b[0m \u001b[0;34m+=\u001b[0m \u001b[0mself\u001b[0m\u001b[0;34m.\u001b[0m\u001b[0m_stream\u001b[0m\u001b[0;34m.\u001b[0m\u001b[0mread\u001b[0m\u001b[0;34m(\u001b[0m\u001b[0mself\u001b[0m\u001b[0;34m.\u001b[0m\u001b[0m_chunk_size\u001b[0m\u001b[0;34m)\u001b[0m\u001b[0;34m\u001b[0m\u001b[0m\n\u001b[0m\u001b[1;32m    180\u001b[0m \u001b[0;34m\u001b[0m\u001b[0m\n\u001b[1;32m    181\u001b[0m     \u001b[0;32mdef\u001b[0m \u001b[0m_pop\u001b[0m\u001b[0;34m(\u001b[0m\u001b[0mself\u001b[0m\u001b[0;34m,\u001b[0m \u001b[0mlength\u001b[0m\u001b[0;34m)\u001b[0m\u001b[0;34m:\u001b[0m\u001b[0;34m\u001b[0m\u001b[0m\n",
      "\u001b[0;32m/anaconda3/lib/python3.6/site-packages/urllib3/response.py\u001b[0m in \u001b[0;36mread\u001b[0;34m(self, amt, decode_content, cache_content)\u001b[0m\n\u001b[1;32m    382\u001b[0m             \u001b[0;32melse\u001b[0m\u001b[0;34m:\u001b[0m\u001b[0;34m\u001b[0m\u001b[0m\n\u001b[1;32m    383\u001b[0m                 \u001b[0mcache_content\u001b[0m \u001b[0;34m=\u001b[0m \u001b[0;32mFalse\u001b[0m\u001b[0;34m\u001b[0m\u001b[0m\n\u001b[0;32m--> 384\u001b[0;31m                 \u001b[0mdata\u001b[0m \u001b[0;34m=\u001b[0m \u001b[0mself\u001b[0m\u001b[0;34m.\u001b[0m\u001b[0m_fp\u001b[0m\u001b[0;34m.\u001b[0m\u001b[0mread\u001b[0m\u001b[0;34m(\u001b[0m\u001b[0mamt\u001b[0m\u001b[0;34m)\u001b[0m\u001b[0;34m\u001b[0m\u001b[0m\n\u001b[0m\u001b[1;32m    385\u001b[0m                 \u001b[0;32mif\u001b[0m \u001b[0mamt\u001b[0m \u001b[0;34m!=\u001b[0m \u001b[0;36m0\u001b[0m \u001b[0;32mand\u001b[0m \u001b[0;32mnot\u001b[0m \u001b[0mdata\u001b[0m\u001b[0;34m:\u001b[0m  \u001b[0;31m# Platform-specific: Buggy versions of Python.\u001b[0m\u001b[0;34m\u001b[0m\u001b[0m\n\u001b[1;32m    386\u001b[0m                     \u001b[0;31m# Close the connection when no data is returned\u001b[0m\u001b[0;34m\u001b[0m\u001b[0;34m\u001b[0m\u001b[0m\n",
      "\u001b[0;32m/anaconda3/lib/python3.6/http/client.py\u001b[0m in \u001b[0;36mread\u001b[0;34m(self, amt)\u001b[0m\n\u001b[1;32m    447\u001b[0m             \u001b[0;31m# Amount is given, implement using readinto\u001b[0m\u001b[0;34m\u001b[0m\u001b[0;34m\u001b[0m\u001b[0m\n\u001b[1;32m    448\u001b[0m             \u001b[0mb\u001b[0m \u001b[0;34m=\u001b[0m \u001b[0mbytearray\u001b[0m\u001b[0;34m(\u001b[0m\u001b[0mamt\u001b[0m\u001b[0;34m)\u001b[0m\u001b[0;34m\u001b[0m\u001b[0m\n\u001b[0;32m--> 449\u001b[0;31m             \u001b[0mn\u001b[0m \u001b[0;34m=\u001b[0m \u001b[0mself\u001b[0m\u001b[0;34m.\u001b[0m\u001b[0mreadinto\u001b[0m\u001b[0;34m(\u001b[0m\u001b[0mb\u001b[0m\u001b[0;34m)\u001b[0m\u001b[0;34m\u001b[0m\u001b[0m\n\u001b[0m\u001b[1;32m    450\u001b[0m             \u001b[0;32mreturn\u001b[0m \u001b[0mmemoryview\u001b[0m\u001b[0;34m(\u001b[0m\u001b[0mb\u001b[0m\u001b[0;34m)\u001b[0m\u001b[0;34m[\u001b[0m\u001b[0;34m:\u001b[0m\u001b[0mn\u001b[0m\u001b[0;34m]\u001b[0m\u001b[0;34m.\u001b[0m\u001b[0mtobytes\u001b[0m\u001b[0;34m(\u001b[0m\u001b[0;34m)\u001b[0m\u001b[0;34m\u001b[0m\u001b[0m\n\u001b[1;32m    451\u001b[0m         \u001b[0;32melse\u001b[0m\u001b[0;34m:\u001b[0m\u001b[0;34m\u001b[0m\u001b[0m\n",
      "\u001b[0;32m/anaconda3/lib/python3.6/http/client.py\u001b[0m in \u001b[0;36mreadinto\u001b[0;34m(self, b)\u001b[0m\n\u001b[1;32m    481\u001b[0m \u001b[0;34m\u001b[0m\u001b[0m\n\u001b[1;32m    482\u001b[0m         \u001b[0;32mif\u001b[0m \u001b[0mself\u001b[0m\u001b[0;34m.\u001b[0m\u001b[0mchunked\u001b[0m\u001b[0;34m:\u001b[0m\u001b[0;34m\u001b[0m\u001b[0m\n\u001b[0;32m--> 483\u001b[0;31m             \u001b[0;32mreturn\u001b[0m \u001b[0mself\u001b[0m\u001b[0;34m.\u001b[0m\u001b[0m_readinto_chunked\u001b[0m\u001b[0;34m(\u001b[0m\u001b[0mb\u001b[0m\u001b[0;34m)\u001b[0m\u001b[0;34m\u001b[0m\u001b[0m\n\u001b[0m\u001b[1;32m    484\u001b[0m \u001b[0;34m\u001b[0m\u001b[0m\n\u001b[1;32m    485\u001b[0m         \u001b[0;32mif\u001b[0m \u001b[0mself\u001b[0m\u001b[0;34m.\u001b[0m\u001b[0mlength\u001b[0m \u001b[0;32mis\u001b[0m \u001b[0;32mnot\u001b[0m \u001b[0;32mNone\u001b[0m\u001b[0;34m:\u001b[0m\u001b[0;34m\u001b[0m\u001b[0m\n",
      "\u001b[0;32m/anaconda3/lib/python3.6/http/client.py\u001b[0m in \u001b[0;36m_readinto_chunked\u001b[0;34m(self, b)\u001b[0m\n\u001b[1;32m    576\u001b[0m         \u001b[0;32mtry\u001b[0m\u001b[0;34m:\u001b[0m\u001b[0;34m\u001b[0m\u001b[0m\n\u001b[1;32m    577\u001b[0m             \u001b[0;32mwhile\u001b[0m \u001b[0;32mTrue\u001b[0m\u001b[0;34m:\u001b[0m\u001b[0;34m\u001b[0m\u001b[0m\n\u001b[0;32m--> 578\u001b[0;31m                 \u001b[0mchunk_left\u001b[0m \u001b[0;34m=\u001b[0m \u001b[0mself\u001b[0m\u001b[0;34m.\u001b[0m\u001b[0m_get_chunk_left\u001b[0m\u001b[0;34m(\u001b[0m\u001b[0;34m)\u001b[0m\u001b[0;34m\u001b[0m\u001b[0m\n\u001b[0m\u001b[1;32m    579\u001b[0m                 \u001b[0;32mif\u001b[0m \u001b[0mchunk_left\u001b[0m \u001b[0;32mis\u001b[0m \u001b[0;32mNone\u001b[0m\u001b[0;34m:\u001b[0m\u001b[0;34m\u001b[0m\u001b[0m\n\u001b[1;32m    580\u001b[0m                     \u001b[0;32mreturn\u001b[0m \u001b[0mtotal_bytes\u001b[0m\u001b[0;34m\u001b[0m\u001b[0m\n",
      "\u001b[0;32m/anaconda3/lib/python3.6/http/client.py\u001b[0m in \u001b[0;36m_get_chunk_left\u001b[0;34m(self)\u001b[0m\n\u001b[1;32m    544\u001b[0m                 \u001b[0mself\u001b[0m\u001b[0;34m.\u001b[0m\u001b[0m_safe_read\u001b[0m\u001b[0;34m(\u001b[0m\u001b[0;36m2\u001b[0m\u001b[0;34m)\u001b[0m  \u001b[0;31m# toss the CRLF at the end of the chunk\u001b[0m\u001b[0;34m\u001b[0m\u001b[0m\n\u001b[1;32m    545\u001b[0m             \u001b[0;32mtry\u001b[0m\u001b[0;34m:\u001b[0m\u001b[0;34m\u001b[0m\u001b[0m\n\u001b[0;32m--> 546\u001b[0;31m                 \u001b[0mchunk_left\u001b[0m \u001b[0;34m=\u001b[0m \u001b[0mself\u001b[0m\u001b[0;34m.\u001b[0m\u001b[0m_read_next_chunk_size\u001b[0m\u001b[0;34m(\u001b[0m\u001b[0;34m)\u001b[0m\u001b[0;34m\u001b[0m\u001b[0m\n\u001b[0m\u001b[1;32m    547\u001b[0m             \u001b[0;32mexcept\u001b[0m \u001b[0mValueError\u001b[0m\u001b[0;34m:\u001b[0m\u001b[0;34m\u001b[0m\u001b[0m\n\u001b[1;32m    548\u001b[0m                 \u001b[0;32mraise\u001b[0m \u001b[0mIncompleteRead\u001b[0m\u001b[0;34m(\u001b[0m\u001b[0;34mb''\u001b[0m\u001b[0;34m)\u001b[0m\u001b[0;34m\u001b[0m\u001b[0m\n",
      "\u001b[0;32m/anaconda3/lib/python3.6/http/client.py\u001b[0m in \u001b[0;36m_read_next_chunk_size\u001b[0;34m(self)\u001b[0m\n\u001b[1;32m    504\u001b[0m     \u001b[0;32mdef\u001b[0m \u001b[0m_read_next_chunk_size\u001b[0m\u001b[0;34m(\u001b[0m\u001b[0mself\u001b[0m\u001b[0;34m)\u001b[0m\u001b[0;34m:\u001b[0m\u001b[0;34m\u001b[0m\u001b[0m\n\u001b[1;32m    505\u001b[0m         \u001b[0;31m# Read the next chunk size from the file\u001b[0m\u001b[0;34m\u001b[0m\u001b[0;34m\u001b[0m\u001b[0m\n\u001b[0;32m--> 506\u001b[0;31m         \u001b[0mline\u001b[0m \u001b[0;34m=\u001b[0m \u001b[0mself\u001b[0m\u001b[0;34m.\u001b[0m\u001b[0mfp\u001b[0m\u001b[0;34m.\u001b[0m\u001b[0mreadline\u001b[0m\u001b[0;34m(\u001b[0m\u001b[0m_MAXLINE\u001b[0m \u001b[0;34m+\u001b[0m \u001b[0;36m1\u001b[0m\u001b[0;34m)\u001b[0m\u001b[0;34m\u001b[0m\u001b[0m\n\u001b[0m\u001b[1;32m    507\u001b[0m         \u001b[0;32mif\u001b[0m \u001b[0mlen\u001b[0m\u001b[0;34m(\u001b[0m\u001b[0mline\u001b[0m\u001b[0;34m)\u001b[0m \u001b[0;34m>\u001b[0m \u001b[0m_MAXLINE\u001b[0m\u001b[0;34m:\u001b[0m\u001b[0;34m\u001b[0m\u001b[0m\n\u001b[1;32m    508\u001b[0m             \u001b[0;32mraise\u001b[0m \u001b[0mLineTooLong\u001b[0m\u001b[0;34m(\u001b[0m\u001b[0;34m\"chunk size\"\u001b[0m\u001b[0;34m)\u001b[0m\u001b[0;34m\u001b[0m\u001b[0m\n",
      "\u001b[0;32m/anaconda3/lib/python3.6/socket.py\u001b[0m in \u001b[0;36mreadinto\u001b[0;34m(self, b)\u001b[0m\n\u001b[1;32m    584\u001b[0m         \u001b[0;32mwhile\u001b[0m \u001b[0;32mTrue\u001b[0m\u001b[0;34m:\u001b[0m\u001b[0;34m\u001b[0m\u001b[0m\n\u001b[1;32m    585\u001b[0m             \u001b[0;32mtry\u001b[0m\u001b[0;34m:\u001b[0m\u001b[0;34m\u001b[0m\u001b[0m\n\u001b[0;32m--> 586\u001b[0;31m                 \u001b[0;32mreturn\u001b[0m \u001b[0mself\u001b[0m\u001b[0;34m.\u001b[0m\u001b[0m_sock\u001b[0m\u001b[0;34m.\u001b[0m\u001b[0mrecv_into\u001b[0m\u001b[0;34m(\u001b[0m\u001b[0mb\u001b[0m\u001b[0;34m)\u001b[0m\u001b[0;34m\u001b[0m\u001b[0m\n\u001b[0m\u001b[1;32m    587\u001b[0m             \u001b[0;32mexcept\u001b[0m \u001b[0mtimeout\u001b[0m\u001b[0;34m:\u001b[0m\u001b[0;34m\u001b[0m\u001b[0m\n\u001b[1;32m    588\u001b[0m                 \u001b[0mself\u001b[0m\u001b[0;34m.\u001b[0m\u001b[0m_timeout_occurred\u001b[0m \u001b[0;34m=\u001b[0m \u001b[0;32mTrue\u001b[0m\u001b[0;34m\u001b[0m\u001b[0m\n",
      "\u001b[0;32m/anaconda3/lib/python3.6/site-packages/urllib3/contrib/pyopenssl.py\u001b[0m in \u001b[0;36mrecv_into\u001b[0;34m(self, *args, **kwargs)\u001b[0m\n\u001b[1;32m    290\u001b[0m                 \u001b[0;32mraise\u001b[0m\u001b[0;34m\u001b[0m\u001b[0m\n\u001b[1;32m    291\u001b[0m         \u001b[0;32mexcept\u001b[0m \u001b[0mOpenSSL\u001b[0m\u001b[0;34m.\u001b[0m\u001b[0mSSL\u001b[0m\u001b[0;34m.\u001b[0m\u001b[0mWantReadError\u001b[0m\u001b[0;34m:\u001b[0m\u001b[0;34m\u001b[0m\u001b[0m\n\u001b[0;32m--> 292\u001b[0;31m             \u001b[0mrd\u001b[0m \u001b[0;34m=\u001b[0m \u001b[0mutil\u001b[0m\u001b[0;34m.\u001b[0m\u001b[0mwait_for_read\u001b[0m\u001b[0;34m(\u001b[0m\u001b[0mself\u001b[0m\u001b[0;34m.\u001b[0m\u001b[0msocket\u001b[0m\u001b[0;34m,\u001b[0m \u001b[0mself\u001b[0m\u001b[0;34m.\u001b[0m\u001b[0msocket\u001b[0m\u001b[0;34m.\u001b[0m\u001b[0mgettimeout\u001b[0m\u001b[0;34m(\u001b[0m\u001b[0;34m)\u001b[0m\u001b[0;34m)\u001b[0m\u001b[0;34m\u001b[0m\u001b[0m\n\u001b[0m\u001b[1;32m    293\u001b[0m             \u001b[0;32mif\u001b[0m \u001b[0;32mnot\u001b[0m \u001b[0mrd\u001b[0m\u001b[0;34m:\u001b[0m\u001b[0;34m\u001b[0m\u001b[0m\n\u001b[1;32m    294\u001b[0m                 \u001b[0;32mraise\u001b[0m \u001b[0mtimeout\u001b[0m\u001b[0;34m(\u001b[0m\u001b[0;34m'The read operation timed out'\u001b[0m\u001b[0;34m)\u001b[0m\u001b[0;34m\u001b[0m\u001b[0m\n",
      "\u001b[0;32m/anaconda3/lib/python3.6/site-packages/urllib3/util/wait.py\u001b[0m in \u001b[0;36mwait_for_read\u001b[0;34m(socks, timeout)\u001b[0m\n\u001b[1;32m     31\u001b[0m     \u001b[0;32mor\u001b[0m \u001b[0moptionally\u001b[0m \u001b[0ma\u001b[0m \u001b[0msingle\u001b[0m \u001b[0msocket\u001b[0m \u001b[0;32mif\u001b[0m \u001b[0mpassed\u001b[0m \u001b[0;32min\u001b[0m\u001b[0;34m.\u001b[0m \u001b[0mReturns\u001b[0m \u001b[0ma\u001b[0m \u001b[0mlist\u001b[0m \u001b[0mof\u001b[0m\u001b[0;34m\u001b[0m\u001b[0m\n\u001b[1;32m     32\u001b[0m     sockets that can be read from immediately. \"\"\"\n\u001b[0;32m---> 33\u001b[0;31m     \u001b[0;32mreturn\u001b[0m \u001b[0m_wait_for_io_events\u001b[0m\u001b[0;34m(\u001b[0m\u001b[0msocks\u001b[0m\u001b[0;34m,\u001b[0m \u001b[0mEVENT_READ\u001b[0m\u001b[0;34m,\u001b[0m \u001b[0mtimeout\u001b[0m\u001b[0;34m)\u001b[0m\u001b[0;34m\u001b[0m\u001b[0m\n\u001b[0m\u001b[1;32m     34\u001b[0m \u001b[0;34m\u001b[0m\u001b[0m\n\u001b[1;32m     35\u001b[0m \u001b[0;34m\u001b[0m\u001b[0m\n",
      "\u001b[0;32m/anaconda3/lib/python3.6/site-packages/urllib3/util/wait.py\u001b[0m in \u001b[0;36m_wait_for_io_events\u001b[0;34m(socks, events, timeout)\u001b[0m\n\u001b[1;32m     24\u001b[0m             \u001b[0mselector\u001b[0m\u001b[0;34m.\u001b[0m\u001b[0mregister\u001b[0m\u001b[0;34m(\u001b[0m\u001b[0msock\u001b[0m\u001b[0;34m,\u001b[0m \u001b[0mevents\u001b[0m\u001b[0;34m)\u001b[0m\u001b[0;34m\u001b[0m\u001b[0m\n\u001b[1;32m     25\u001b[0m         return [key[0].fileobj for key in\n\u001b[0;32m---> 26\u001b[0;31m                 selector.select(timeout) if key[1] & events]\n\u001b[0m\u001b[1;32m     27\u001b[0m \u001b[0;34m\u001b[0m\u001b[0m\n\u001b[1;32m     28\u001b[0m \u001b[0;34m\u001b[0m\u001b[0m\n",
      "\u001b[0;32m/anaconda3/lib/python3.6/site-packages/urllib3/util/selectors.py\u001b[0m in \u001b[0;36mselect\u001b[0;34m(self, timeout)\u001b[0m\n\u001b[1;32m    511\u001b[0m \u001b[0;34m\u001b[0m\u001b[0m\n\u001b[1;32m    512\u001b[0m             kevent_list = _syscall_wrapper(self._kqueue.control, True,\n\u001b[0;32m--> 513\u001b[0;31m                                            None, max_events, timeout)\n\u001b[0m\u001b[1;32m    514\u001b[0m \u001b[0;34m\u001b[0m\u001b[0m\n\u001b[1;32m    515\u001b[0m             \u001b[0;32mfor\u001b[0m \u001b[0mkevent\u001b[0m \u001b[0;32min\u001b[0m \u001b[0mkevent_list\u001b[0m\u001b[0;34m:\u001b[0m\u001b[0;34m\u001b[0m\u001b[0m\n",
      "\u001b[0;32m/anaconda3/lib/python3.6/site-packages/urllib3/util/selectors.py\u001b[0m in \u001b[0;36m_syscall_wrapper\u001b[0;34m(func, _, *args, **kwargs)\u001b[0m\n\u001b[1;32m     62\u001b[0m         and recalculate their timeouts. \"\"\"\n\u001b[1;32m     63\u001b[0m         \u001b[0;32mtry\u001b[0m\u001b[0;34m:\u001b[0m\u001b[0;34m\u001b[0m\u001b[0m\n\u001b[0;32m---> 64\u001b[0;31m             \u001b[0;32mreturn\u001b[0m \u001b[0mfunc\u001b[0m\u001b[0;34m(\u001b[0m\u001b[0;34m*\u001b[0m\u001b[0margs\u001b[0m\u001b[0;34m,\u001b[0m \u001b[0;34m**\u001b[0m\u001b[0mkwargs\u001b[0m\u001b[0;34m)\u001b[0m\u001b[0;34m\u001b[0m\u001b[0m\n\u001b[0m\u001b[1;32m     65\u001b[0m         \u001b[0;32mexcept\u001b[0m \u001b[0;34m(\u001b[0m\u001b[0mOSError\u001b[0m\u001b[0;34m,\u001b[0m \u001b[0mIOError\u001b[0m\u001b[0;34m,\u001b[0m \u001b[0mselect\u001b[0m\u001b[0;34m.\u001b[0m\u001b[0merror\u001b[0m\u001b[0;34m)\u001b[0m \u001b[0;32mas\u001b[0m \u001b[0me\u001b[0m\u001b[0;34m:\u001b[0m\u001b[0;34m\u001b[0m\u001b[0m\n\u001b[1;32m     66\u001b[0m             \u001b[0merrcode\u001b[0m \u001b[0;34m=\u001b[0m \u001b[0;32mNone\u001b[0m\u001b[0;34m\u001b[0m\u001b[0m\n",
      "\u001b[0;31mKeyboardInterrupt\u001b[0m: "
     ]
    }
   ],
   "source": [
    "from tweepy import Stream\n",
    "from tweepy.streaming import StreamListener\n",
    "from IPython import display\n",
    "from collections import deque\n",
    "import json\n",
    "\n",
    "class MyListener(StreamListener):\n",
    "    def __init__(self):\n",
    "        super().__init__()\n",
    "        self.list_of_tweets = deque([], maxlen=5)\n",
    "        \n",
    "    def on_data(self, data):\n",
    "        tweet_text = json.loads(data)['text']\n",
    "        self.list_of_tweets.append(tweet_text)\n",
    "        self.print_list_of_tweets()\n",
    "    \n",
    "        try:\n",
    "            client = MongoClient()\n",
    "            db = client.environment\n",
    "    \n",
    "            # Decode the JSON from Twitter\n",
    "            datajson = json.loads(data)\n",
    "            \n",
    "            #grab the 'created_at' data from the Tweet to use for display\n",
    "            #created_at = datajson['created_at']\n",
    " \n",
    "            #print out a message to the screen that we have collected a tweet\n",
    "            #print(\"Tweet collected at \" + str(created_at))\n",
    "            \n",
    "            #insert the data into the mongoDB into a collection called twitter_search\n",
    "            #if twitter_search doesn't exist, it will be created.\n",
    "            db.sustainability.insert(datajson)\n",
    "        except Exception as e:\n",
    "            print(e)    \n",
    "        \n",
    "    def on_error(self, status):\n",
    "        print('An Error has occured: ' + repr(status))\n",
    "\n",
    "    def print_list_of_tweets(self):\n",
    "        display.clear_output(wait=True)\n",
    "        for index, tweet_text in enumerate(self.list_of_tweets):\n",
    "            m='{}. {}\\n\\n'.format(index, tweet_text)\n",
    "            print(m)\n",
    "            \n",
    "twitter_stream = Stream(auth, MyListener())\n",
    "twitter_stream.filter(track=['#sustainability'])\n"
   ]
  },
  {
   "cell_type": "code",
   "execution_count": null,
   "metadata": {},
   "outputs": [],
   "source": []
  }
 ],
 "metadata": {
  "kernelspec": {
   "display_name": "Python 3",
   "language": "python",
   "name": "python3"
  },
  "language_info": {
   "codemirror_mode": {
    "name": "ipython",
    "version": 3
   },
   "file_extension": ".py",
   "mimetype": "text/x-python",
   "name": "python",
   "nbconvert_exporter": "python",
   "pygments_lexer": "ipython3",
   "version": "3.6.5"
  }
 },
 "nbformat": 4,
 "nbformat_minor": 2
}
