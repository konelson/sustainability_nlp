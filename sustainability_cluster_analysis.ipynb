{
 "cells": [
  {
   "cell_type": "markdown",
   "metadata": {},
   "source": [
    "# sustainability_cluster_eda"
   ]
  },
  {
   "cell_type": "code",
   "execution_count": 1,
   "metadata": {},
   "outputs": [],
   "source": [
    "from pymongo import MongoClient\n",
    "client = MongoClient()\n",
    "db = client.environment\n",
    "sustainability_collection = db.sustainability"
   ]
  },
  {
   "cell_type": "code",
   "execution_count": 2,
   "metadata": {},
   "outputs": [],
   "source": [
    "import pandas as pd\n",
    "import re\n",
    "from nltk.tokenize import RegexpTokenizer\n",
    "from collections import Counter\n",
    "\n",
    "from textblob import TextBlob"
   ]
  },
  {
   "cell_type": "code",
   "execution_count": 3,
   "metadata": {},
   "outputs": [],
   "source": [
    "import pickle\n",
    "\n",
    "with open('sustainability_clusters.pickle','rb') as read_file:\n",
    "    clusters = pickle.load(read_file)"
   ]
  },
  {
   "cell_type": "code",
   "execution_count": 4,
   "metadata": {},
   "outputs": [
    {
     "data": {
      "text/plain": [
       "array([12, 12, 12, ..., 12, 12, 12], dtype=int32)"
      ]
     },
     "execution_count": 4,
     "metadata": {},
     "output_type": "execute_result"
    }
   ],
   "source": [
    "(clusters)"
   ]
  },
  {
   "cell_type": "code",
   "execution_count": 5,
   "metadata": {},
   "outputs": [],
   "source": [
    "tweet_list = []\n",
    "for tweet in sustainability_collection.aggregate([{'$match': {'lang': 'en'}}]):\n",
    "    tweet_list.append(tweet['text'])"
   ]
  },
  {
   "cell_type": "code",
   "execution_count": 6,
   "metadata": {},
   "outputs": [],
   "source": [
    "tweet_df = pd.DataFrame()"
   ]
  },
  {
   "cell_type": "code",
   "execution_count": 7,
   "metadata": {},
   "outputs": [],
   "source": [
    "tweet_df = pd.DataFrame(tweet_list, columns = ['tweet'])    "
   ]
  },
  {
   "cell_type": "code",
   "execution_count": 8,
   "metadata": {},
   "outputs": [],
   "source": [
    "tweet_df['clusters'] = clusters"
   ]
  },
  {
   "cell_type": "code",
   "execution_count": 9,
   "metadata": {},
   "outputs": [
    {
     "data": {
      "text/html": [
       "<div>\n",
       "<style scoped>\n",
       "    .dataframe tbody tr th:only-of-type {\n",
       "        vertical-align: middle;\n",
       "    }\n",
       "\n",
       "    .dataframe tbody tr th {\n",
       "        vertical-align: top;\n",
       "    }\n",
       "\n",
       "    .dataframe thead th {\n",
       "        text-align: right;\n",
       "    }\n",
       "</style>\n",
       "<table border=\"1\" class=\"dataframe\">\n",
       "  <thead>\n",
       "    <tr style=\"text-align: right;\">\n",
       "      <th></th>\n",
       "      <th>tweet</th>\n",
       "      <th>clusters</th>\n",
       "    </tr>\n",
       "  </thead>\n",
       "  <tbody>\n",
       "    <tr>\n",
       "      <th>0</th>\n",
       "      <td>RT @angelurena: This visit concludes this week...</td>\n",
       "      <td>12</td>\n",
       "    </tr>\n",
       "    <tr>\n",
       "      <th>1</th>\n",
       "      <td>Are you in Melbourne or Sydney? Join us at #SP...</td>\n",
       "      <td>12</td>\n",
       "    </tr>\n",
       "    <tr>\n",
       "      <th>2</th>\n",
       "      <td>Why Vienna Does So Well on Quality-of-Life Ran...</td>\n",
       "      <td>12</td>\n",
       "    </tr>\n",
       "    <tr>\n",
       "      <th>3</th>\n",
       "      <td>RT @APLShipping: APL achieved a 50.7% reductio...</td>\n",
       "      <td>12</td>\n",
       "    </tr>\n",
       "    <tr>\n",
       "      <th>4</th>\n",
       "      <td>RT @AmazonWatch: “Hydroelectricity may appear ...</td>\n",
       "      <td>12</td>\n",
       "    </tr>\n",
       "    <tr>\n",
       "      <th>5</th>\n",
       "      <td>RT @cleanAirGurgaon: Right to Clean Enviornmen...</td>\n",
       "      <td>12</td>\n",
       "    </tr>\n",
       "    <tr>\n",
       "      <th>6</th>\n",
       "      <td>RT @thefishsite: A new study suggests seafood ...</td>\n",
       "      <td>12</td>\n",
       "    </tr>\n",
       "    <tr>\n",
       "      <th>7</th>\n",
       "      <td>RT @rsb_org: Did you hear about our new partne...</td>\n",
       "      <td>12</td>\n",
       "    </tr>\n",
       "    <tr>\n",
       "      <th>8</th>\n",
       "      <td>RT @NewEnglandDairy: Tips to reduce food waste...</td>\n",
       "      <td>12</td>\n",
       "    </tr>\n",
       "    <tr>\n",
       "      <th>9</th>\n",
       "      <td>Sustainability Can Be Beautiful: Dirt + Pressu...</td>\n",
       "      <td>12</td>\n",
       "    </tr>\n",
       "    <tr>\n",
       "      <th>10</th>\n",
       "      <td>Thanks to Ruby &amp;amp; Charlie from Kingsville P...</td>\n",
       "      <td>4</td>\n",
       "    </tr>\n",
       "    <tr>\n",
       "      <th>11</th>\n",
       "      <td>RT @Greenbuild: We love the advice about findi...</td>\n",
       "      <td>12</td>\n",
       "    </tr>\n",
       "    <tr>\n",
       "      <th>12</th>\n",
       "      <td>RT @Jnayak17: We are the backbone of the GoI's...</td>\n",
       "      <td>4</td>\n",
       "    </tr>\n",
       "    <tr>\n",
       "      <th>13</th>\n",
       "      <td>RT @kashthefuturist: Doctors warn that #plasti...</td>\n",
       "      <td>3</td>\n",
       "    </tr>\n",
       "    <tr>\n",
       "      <th>14</th>\n",
       "      <td>DBS and Wilmar International ink new sustainab...</td>\n",
       "      <td>12</td>\n",
       "    </tr>\n",
       "    <tr>\n",
       "      <th>15</th>\n",
       "      <td>Really into science fiction rn. There’s so muc...</td>\n",
       "      <td>12</td>\n",
       "    </tr>\n",
       "    <tr>\n",
       "      <th>16</th>\n",
       "      <td>If you're looking for work in #MéxicoDF, CDMX,...</td>\n",
       "      <td>4</td>\n",
       "    </tr>\n",
       "    <tr>\n",
       "      <th>17</th>\n",
       "      <td>RT @kashthefuturist: Wave power plant \\n\\n#Sus...</td>\n",
       "      <td>0</td>\n",
       "    </tr>\n",
       "    <tr>\n",
       "      <th>18</th>\n",
       "      <td>RT @PlasticBank: The social enterprise turning...</td>\n",
       "      <td>0</td>\n",
       "    </tr>\n",
       "    <tr>\n",
       "      <th>19</th>\n",
       "      <td>RT @SavePl21174455: We're dangerously unprepar...</td>\n",
       "      <td>4</td>\n",
       "    </tr>\n",
       "  </tbody>\n",
       "</table>\n",
       "</div>"
      ],
      "text/plain": [
       "                                                tweet  clusters\n",
       "0   RT @angelurena: This visit concludes this week...        12\n",
       "1   Are you in Melbourne or Sydney? Join us at #SP...        12\n",
       "2   Why Vienna Does So Well on Quality-of-Life Ran...        12\n",
       "3   RT @APLShipping: APL achieved a 50.7% reductio...        12\n",
       "4   RT @AmazonWatch: “Hydroelectricity may appear ...        12\n",
       "5   RT @cleanAirGurgaon: Right to Clean Enviornmen...        12\n",
       "6   RT @thefishsite: A new study suggests seafood ...        12\n",
       "7   RT @rsb_org: Did you hear about our new partne...        12\n",
       "8   RT @NewEnglandDairy: Tips to reduce food waste...        12\n",
       "9   Sustainability Can Be Beautiful: Dirt + Pressu...        12\n",
       "10  Thanks to Ruby &amp; Charlie from Kingsville P...         4\n",
       "11  RT @Greenbuild: We love the advice about findi...        12\n",
       "12  RT @Jnayak17: We are the backbone of the GoI's...         4\n",
       "13  RT @kashthefuturist: Doctors warn that #plasti...         3\n",
       "14  DBS and Wilmar International ink new sustainab...        12\n",
       "15  Really into science fiction rn. There’s so muc...        12\n",
       "16  If you're looking for work in #MéxicoDF, CDMX,...         4\n",
       "17  RT @kashthefuturist: Wave power plant \\n\\n#Sus...         0\n",
       "18  RT @PlasticBank: The social enterprise turning...         0\n",
       "19  RT @SavePl21174455: We're dangerously unprepar...         4"
      ]
     },
     "execution_count": 9,
     "metadata": {},
     "output_type": "execute_result"
    }
   ],
   "source": [
    "tweet_df.head(20)"
   ]
  },
  {
   "cell_type": "code",
   "execution_count": 10,
   "metadata": {},
   "outputs": [
    {
     "data": {
      "text/html": [
       "<div>\n",
       "<style scoped>\n",
       "    .dataframe tbody tr th:only-of-type {\n",
       "        vertical-align: middle;\n",
       "    }\n",
       "\n",
       "    .dataframe tbody tr th {\n",
       "        vertical-align: top;\n",
       "    }\n",
       "\n",
       "    .dataframe thead th {\n",
       "        text-align: right;\n",
       "    }\n",
       "</style>\n",
       "<table border=\"1\" class=\"dataframe\">\n",
       "  <thead>\n",
       "    <tr style=\"text-align: right;\">\n",
       "      <th></th>\n",
       "      <th>tweet</th>\n",
       "      <th>clusters</th>\n",
       "    </tr>\n",
       "  </thead>\n",
       "  <tbody>\n",
       "    <tr>\n",
       "      <th>0</th>\n",
       "      <td>RT @angelurena: This visit concludes this week...</td>\n",
       "      <td>12</td>\n",
       "    </tr>\n",
       "    <tr>\n",
       "      <th>1</th>\n",
       "      <td>Are you in Melbourne or Sydney? Join us at #SP...</td>\n",
       "      <td>12</td>\n",
       "    </tr>\n",
       "    <tr>\n",
       "      <th>2</th>\n",
       "      <td>Why Vienna Does So Well on Quality-of-Life Ran...</td>\n",
       "      <td>12</td>\n",
       "    </tr>\n",
       "    <tr>\n",
       "      <th>3</th>\n",
       "      <td>RT @APLShipping: APL achieved a 50.7% reductio...</td>\n",
       "      <td>12</td>\n",
       "    </tr>\n",
       "    <tr>\n",
       "      <th>4</th>\n",
       "      <td>RT @AmazonWatch: “Hydroelectricity may appear ...</td>\n",
       "      <td>12</td>\n",
       "    </tr>\n",
       "  </tbody>\n",
       "</table>\n",
       "</div>"
      ],
      "text/plain": [
       "                                               tweet  clusters\n",
       "0  RT @angelurena: This visit concludes this week...        12\n",
       "1  Are you in Melbourne or Sydney? Join us at #SP...        12\n",
       "2  Why Vienna Does So Well on Quality-of-Life Ran...        12\n",
       "3  RT @APLShipping: APL achieved a 50.7% reductio...        12\n",
       "4  RT @AmazonWatch: “Hydroelectricity may appear ...        12"
      ]
     },
     "execution_count": 10,
     "metadata": {},
     "output_type": "execute_result"
    }
   ],
   "source": [
    "tweet_df.head()"
   ]
  },
  {
   "cell_type": "code",
   "execution_count": 11,
   "metadata": {},
   "outputs": [
    {
     "data": {
      "text/plain": [
       "Sentiment(polarity=0.0, subjectivity=0.0)"
      ]
     },
     "execution_count": 11,
     "metadata": {},
     "output_type": "execute_result"
    }
   ],
   "source": [
    "TextBlob(tweet_df.iloc[0][0]).sentiment"
   ]
  },
  {
   "cell_type": "code",
   "execution_count": 12,
   "metadata": {},
   "outputs": [],
   "source": [
    "tweet_df['polarity'] = tweet_df.tweet.apply(lambda x: TextBlob(x).polarity)\n",
    "tweet_df['subjectivity'] = tweet_df.tweet.apply(lambda x: TextBlob(x).subjectivity)"
   ]
  },
  {
   "cell_type": "code",
   "execution_count": 13,
   "metadata": {},
   "outputs": [
    {
     "data": {
      "text/html": [
       "<div>\n",
       "<style scoped>\n",
       "    .dataframe tbody tr th:only-of-type {\n",
       "        vertical-align: middle;\n",
       "    }\n",
       "\n",
       "    .dataframe tbody tr th {\n",
       "        vertical-align: top;\n",
       "    }\n",
       "\n",
       "    .dataframe thead th {\n",
       "        text-align: right;\n",
       "    }\n",
       "</style>\n",
       "<table border=\"1\" class=\"dataframe\">\n",
       "  <thead>\n",
       "    <tr style=\"text-align: right;\">\n",
       "      <th></th>\n",
       "      <th>tweet</th>\n",
       "      <th>clusters</th>\n",
       "      <th>polarity</th>\n",
       "      <th>subjectivity</th>\n",
       "    </tr>\n",
       "  </thead>\n",
       "  <tbody>\n",
       "    <tr>\n",
       "      <th>0</th>\n",
       "      <td>RT @angelurena: This visit concludes this week...</td>\n",
       "      <td>12</td>\n",
       "      <td>0.000000</td>\n",
       "      <td>0.00</td>\n",
       "    </tr>\n",
       "    <tr>\n",
       "      <th>1</th>\n",
       "      <td>Are you in Melbourne or Sydney? Join us at #SP...</td>\n",
       "      <td>12</td>\n",
       "      <td>0.500000</td>\n",
       "      <td>0.90</td>\n",
       "    </tr>\n",
       "    <tr>\n",
       "      <th>2</th>\n",
       "      <td>Why Vienna Does So Well on Quality-of-Life Ran...</td>\n",
       "      <td>12</td>\n",
       "      <td>0.000000</td>\n",
       "      <td>0.00</td>\n",
       "    </tr>\n",
       "    <tr>\n",
       "      <th>3</th>\n",
       "      <td>RT @APLShipping: APL achieved a 50.7% reductio...</td>\n",
       "      <td>12</td>\n",
       "      <td>0.000000</td>\n",
       "      <td>0.00</td>\n",
       "    </tr>\n",
       "    <tr>\n",
       "      <th>4</th>\n",
       "      <td>RT @AmazonWatch: “Hydroelectricity may appear ...</td>\n",
       "      <td>12</td>\n",
       "      <td>0.233333</td>\n",
       "      <td>0.85</td>\n",
       "    </tr>\n",
       "  </tbody>\n",
       "</table>\n",
       "</div>"
      ],
      "text/plain": [
       "                                               tweet  clusters  polarity  \\\n",
       "0  RT @angelurena: This visit concludes this week...        12  0.000000   \n",
       "1  Are you in Melbourne or Sydney? Join us at #SP...        12  0.500000   \n",
       "2  Why Vienna Does So Well on Quality-of-Life Ran...        12  0.000000   \n",
       "3  RT @APLShipping: APL achieved a 50.7% reductio...        12  0.000000   \n",
       "4  RT @AmazonWatch: “Hydroelectricity may appear ...        12  0.233333   \n",
       "\n",
       "   subjectivity  \n",
       "0          0.00  \n",
       "1          0.90  \n",
       "2          0.00  \n",
       "3          0.00  \n",
       "4          0.85  "
      ]
     },
     "execution_count": 13,
     "metadata": {},
     "output_type": "execute_result"
    }
   ],
   "source": [
    "tweet_df.head()"
   ]
  },
  {
   "cell_type": "code",
   "execution_count": 14,
   "metadata": {},
   "outputs": [],
   "source": [
    "clustered_tweets = tweet_df.filter(items = ['clusters', 'polarity', 'subjectivity'])"
   ]
  },
  {
   "cell_type": "code",
   "execution_count": 15,
   "metadata": {},
   "outputs": [
    {
     "data": {
      "text/html": [
       "<div>\n",
       "<style scoped>\n",
       "    .dataframe tbody tr th:only-of-type {\n",
       "        vertical-align: middle;\n",
       "    }\n",
       "\n",
       "    .dataframe tbody tr th {\n",
       "        vertical-align: top;\n",
       "    }\n",
       "\n",
       "    .dataframe thead th {\n",
       "        text-align: right;\n",
       "    }\n",
       "</style>\n",
       "<table border=\"1\" class=\"dataframe\">\n",
       "  <thead>\n",
       "    <tr style=\"text-align: right;\">\n",
       "      <th></th>\n",
       "      <th>clusters</th>\n",
       "      <th>polarity</th>\n",
       "      <th>subjectivity</th>\n",
       "    </tr>\n",
       "  </thead>\n",
       "  <tbody>\n",
       "    <tr>\n",
       "      <th>0</th>\n",
       "      <td>0</td>\n",
       "      <td>-0.000241</td>\n",
       "      <td>0.227166</td>\n",
       "    </tr>\n",
       "    <tr>\n",
       "      <th>1</th>\n",
       "      <td>1</td>\n",
       "      <td>-0.251852</td>\n",
       "      <td>0.262963</td>\n",
       "    </tr>\n",
       "    <tr>\n",
       "      <th>2</th>\n",
       "      <td>2</td>\n",
       "      <td>0.277126</td>\n",
       "      <td>0.432977</td>\n",
       "    </tr>\n",
       "    <tr>\n",
       "      <th>3</th>\n",
       "      <td>3</td>\n",
       "      <td>-0.100000</td>\n",
       "      <td>0.050000</td>\n",
       "    </tr>\n",
       "    <tr>\n",
       "      <th>4</th>\n",
       "      <td>4</td>\n",
       "      <td>0.303711</td>\n",
       "      <td>0.460179</td>\n",
       "    </tr>\n",
       "    <tr>\n",
       "      <th>5</th>\n",
       "      <td>5</td>\n",
       "      <td>0.500000</td>\n",
       "      <td>0.500000</td>\n",
       "    </tr>\n",
       "    <tr>\n",
       "      <th>6</th>\n",
       "      <td>6</td>\n",
       "      <td>-0.100000</td>\n",
       "      <td>0.200000</td>\n",
       "    </tr>\n",
       "    <tr>\n",
       "      <th>7</th>\n",
       "      <td>7</td>\n",
       "      <td>0.000000</td>\n",
       "      <td>0.000000</td>\n",
       "    </tr>\n",
       "    <tr>\n",
       "      <th>8</th>\n",
       "      <td>8</td>\n",
       "      <td>0.500000</td>\n",
       "      <td>0.500000</td>\n",
       "    </tr>\n",
       "    <tr>\n",
       "      <th>9</th>\n",
       "      <td>9</td>\n",
       "      <td>0.998322</td>\n",
       "      <td>0.898658</td>\n",
       "    </tr>\n",
       "    <tr>\n",
       "      <th>10</th>\n",
       "      <td>10</td>\n",
       "      <td>0.375000</td>\n",
       "      <td>1.000000</td>\n",
       "    </tr>\n",
       "    <tr>\n",
       "      <th>11</th>\n",
       "      <td>11</td>\n",
       "      <td>0.000000</td>\n",
       "      <td>0.000000</td>\n",
       "    </tr>\n",
       "    <tr>\n",
       "      <th>12</th>\n",
       "      <td>12</td>\n",
       "      <td>0.125943</td>\n",
       "      <td>0.316010</td>\n",
       "    </tr>\n",
       "    <tr>\n",
       "      <th>13</th>\n",
       "      <td>13</td>\n",
       "      <td>-0.023810</td>\n",
       "      <td>0.380952</td>\n",
       "    </tr>\n",
       "    <tr>\n",
       "      <th>14</th>\n",
       "      <td>14</td>\n",
       "      <td>0.423077</td>\n",
       "      <td>0.846154</td>\n",
       "    </tr>\n",
       "    <tr>\n",
       "      <th>15</th>\n",
       "      <td>15</td>\n",
       "      <td>-0.195918</td>\n",
       "      <td>0.000000</td>\n",
       "    </tr>\n",
       "  </tbody>\n",
       "</table>\n",
       "</div>"
      ],
      "text/plain": [
       "    clusters  polarity  subjectivity\n",
       "0          0 -0.000241      0.227166\n",
       "1          1 -0.251852      0.262963\n",
       "2          2  0.277126      0.432977\n",
       "3          3 -0.100000      0.050000\n",
       "4          4  0.303711      0.460179\n",
       "5          5  0.500000      0.500000\n",
       "6          6 -0.100000      0.200000\n",
       "7          7  0.000000      0.000000\n",
       "8          8  0.500000      0.500000\n",
       "9          9  0.998322      0.898658\n",
       "10        10  0.375000      1.000000\n",
       "11        11  0.000000      0.000000\n",
       "12        12  0.125943      0.316010\n",
       "13        13 -0.023810      0.380952\n",
       "14        14  0.423077      0.846154\n",
       "15        15 -0.195918      0.000000"
      ]
     },
     "execution_count": 15,
     "metadata": {},
     "output_type": "execute_result"
    }
   ],
   "source": [
    "clustered_tweets.groupby(by = clusters).mean()"
   ]
  },
  {
   "cell_type": "code",
   "execution_count": 16,
   "metadata": {},
   "outputs": [
    {
     "name": "stdout",
     "output_type": "stream",
     "text": [
      "Topic Number: 0 Percent: 0.041054038571701354\n",
      "Topic Number: 1 Percent: 0.005823945006683215\n",
      "Topic Number: 2 Percent: 0.023391254535039145\n",
      "Topic Number: 3 Percent: 0.004487301890395264\n",
      "Topic Number: 4 Percent: 0.1315638724460569\n",
      "Topic Number: 5 Percent: 0.0036280313156387247\n",
      "Topic Number: 6 Percent: 0.00343708229902616\n",
      "Topic Number: 7 Percent: 0.012316211571510407\n",
      "Topic Number: 8 Percent: 0.004678250907007829\n",
      "Topic Number: 9 Percent: 0.014225701737636052\n",
      "Topic Number: 10 Percent: 0.005537521481764369\n",
      "Topic Number: 11 Percent: 0.004582776398701547\n",
      "Topic Number: 12 Percent: 0.7249379415696009\n",
      "Topic Number: 13 Percent: 0.010693144930303608\n",
      "Topic Number: 14 Percent: 0.0049646744319266755\n",
      "Topic Number: 15 Percent: 0.004678250907007829\n"
     ]
    }
   ],
   "source": [
    "topic_counts = Counter(clusters)\n",
    "\n",
    "for topic, count in sorted(topic_counts.items()):\n",
    "    print(\"Topic Number:\", topic, \"Percent:\", (count / sum(topic_counts.values())))"
   ]
  },
  {
   "cell_type": "code",
   "execution_count": 17,
   "metadata": {},
   "outputs": [
    {
     "name": "stdout",
     "output_type": "stream",
     "text": [
      "((?:<[^>]+>)| (?:http[s]?://t.co/[a-zA-Z0-9]+)| (?:http[s]\\S+?)| (?:@[\\w_]+)| (?:\\#+[\\w_]+[\\w\\'_\\-]*[\\w_]+)| (?:\\$[a-zA-Z]{1,6}([._][a-zA-Z]{1,2})?)| (?:[a-z][a-z'\\-_]+[a-z])| (?:[+\\-]?\\d+[,/.:-]\\d+[+\\-]?)| (?:[\\w_]+)| (?:\\.(?:\\s*\\.){1,}))\n"
     ]
    }
   ],
   "source": [
    "'''\n",
    "\n",
    "Tweet Tokenizer Adapted from :  https://github.com/adonoho/TweetTokenizers/blob/master/PottsTweetTokenizer.py\n",
    "   \n",
    "This Tokenizer preserves Twitter language including:  usernames, hashtags, symbols html, etc.\n",
    "\n",
    "'''\n",
    "\n",
    "regex_code = (\n",
    "\n",
    "    r\"\"\"(?:<[^>]+>)\"\"\",                             # HTML tags\n",
    "    r\"\"\"(?:http[s]?://t.co/[a-zA-Z0-9]+)\"\"\",        # URLs \n",
    "    r\"\"\"(?:http[s]\\S+?)\"\"\",                         # URLs\n",
    "    r\"\"\"(?:@[\\w_]+)\"\"\",                             # Twitter username\n",
    "    r\"\"\"(?:\\#+[\\w_]+[\\w\\'_\\-]*[\\w_]+)\"\"\",           # Twitter hashtags\n",
    "    r\"\"\"(?:\\$[a-zA-Z]{1,6}([._][a-zA-Z]{1,2})?)\"\"\", # Twitter symbols / cashtags\n",
    "    r\"\"\"(?:[a-z][a-z'\\-_]+[a-z])\"\"\",                # Words with apostrophes or dashes\n",
    "    r\"\"\"(?:[+\\-]?\\d+[,/.:-]\\d+[+\\-]?)\"\"\",           # Numbers, including fractions, decimals\n",
    "    r\"\"\"(?:[\\w_]+)\"\"\",                              # Words without apostrophes or dashes\n",
    "    r\"\"\"(?:\\.(?:\\s*\\.){1,})\"\"\"                      # Ellipsis\n",
    "    )\n",
    "\n",
    "#regex_text = re.sub(r'[%s]'% (regex_pattern), ' ')\n",
    "\n",
    "#regex_pattern = re.compile(r\"\"\"(%s)\"\"\"%\"|\".join(regex_code), re.VERBOSE | re.I | re.UNICODE)\n",
    "regex_pattern = re.compile(r\"\"\"(%s)\"\"\"%\"| \".join(regex_code))#, re.VERBOSE | re.I | re.UNICODE)\n",
    "\n",
    "print(regex_pattern.pattern)\n",
    "\n",
    "regex_tokenizer = RegexpTokenizer(pattern=regex_pattern.pattern,gaps=True, discard_empty = True)"
   ]
  },
  {
   "cell_type": "code",
   "execution_count": 18,
   "metadata": {},
   "outputs": [
    {
     "data": {
      "text/plain": [
       "'RT @angelurena: This visit concludes this week’s stops in Miami and the Caribbean by President @BillClinton to promote sustainability and r…'"
      ]
     },
     "execution_count": 18,
     "metadata": {},
     "output_type": "execute_result"
    }
   ],
   "source": [
    "tweet_df.tweet[0]"
   ]
  },
  {
   "cell_type": "code",
   "execution_count": 19,
   "metadata": {},
   "outputs": [
    {
     "data": {
      "text/plain": [
       "['RT',\n",
       " ' @angelurena',\n",
       " ':',\n",
       " ' This',\n",
       " ' visit',\n",
       " ' concludes',\n",
       " ' this',\n",
       " ' week',\n",
       " '’s',\n",
       " ' stops',\n",
       " ' in',\n",
       " ' Miami',\n",
       " ' and',\n",
       " ' the',\n",
       " ' Caribbean',\n",
       " ' by',\n",
       " ' President',\n",
       " ' @BillClinton',\n",
       " ' to',\n",
       " ' promote',\n",
       " ' sustainability',\n",
       " ' and',\n",
       " ' r',\n",
       " '…']"
      ]
     },
     "execution_count": 19,
     "metadata": {},
     "output_type": "execute_result"
    }
   ],
   "source": [
    "regex_tokenizer.tokenize(tweet_df.tweet[0])"
   ]
  },
  {
   "cell_type": "code",
   "execution_count": 20,
   "metadata": {},
   "outputs": [],
   "source": [
    "with open ('tweet_df.pickle', 'wb') as to_write:\n",
    "    pickle.dump(tweet_df, to_write)"
   ]
  },
  {
   "cell_type": "code",
   "execution_count": 21,
   "metadata": {},
   "outputs": [],
   "source": [
    "with open ('clustered_tweets.pickle', 'wb') as to_write:\n",
    "    pickle.dump(clustered_tweets, to_write)"
   ]
  },
  {
   "cell_type": "code",
   "execution_count": null,
   "metadata": {},
   "outputs": [],
   "source": []
  },
  {
   "cell_type": "code",
   "execution_count": null,
   "metadata": {},
   "outputs": [],
   "source": []
  }
 ],
 "metadata": {
  "kernelspec": {
   "display_name": "Python 3",
   "language": "python",
   "name": "python3"
  },
  "language_info": {
   "codemirror_mode": {
    "name": "ipython",
    "version": 3
   },
   "file_extension": ".py",
   "mimetype": "text/x-python",
   "name": "python",
   "nbconvert_exporter": "python",
   "pygments_lexer": "ipython3",
   "version": "3.6.5"
  }
 },
 "nbformat": 4,
 "nbformat_minor": 2
}
