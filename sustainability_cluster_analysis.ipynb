{
 "cells": [
  {
   "cell_type": "markdown",
   "metadata": {},
   "source": [
    "# sustainability_cluster_eda"
   ]
  },
  {
   "cell_type": "code",
   "execution_count": 1,
   "metadata": {},
   "outputs": [],
   "source": [
    "from pymongo import MongoClient\n",
    "client = MongoClient()\n",
    "db = client.environment\n",
    "sustainability_collection = db.sustainability"
   ]
  },
  {
   "cell_type": "code",
   "execution_count": 26,
   "metadata": {},
   "outputs": [],
   "source": [
    "import pandas as pd\n",
    "import re\n",
    "from nltk.tokenize import RegexpTokenizer\n",
    "from collections import Counter\n",
    "\n",
    "from textblob import TextBlob"
   ]
  },
  {
   "cell_type": "code",
   "execution_count": 3,
   "metadata": {},
   "outputs": [],
   "source": [
    "import pickle\n",
    "\n",
    "with open('sustainability_clusters.pickle','rb') as read_file:\n",
    "    clusters = pickle.load(read_file)"
   ]
  },
  {
   "cell_type": "code",
   "execution_count": 4,
   "metadata": {},
   "outputs": [
    {
     "data": {
      "text/plain": [
       "10474"
      ]
     },
     "execution_count": 4,
     "metadata": {},
     "output_type": "execute_result"
    }
   ],
   "source": [
    "len(clusters)"
   ]
  },
  {
   "cell_type": "code",
   "execution_count": 5,
   "metadata": {},
   "outputs": [],
   "source": [
    "tweet_list = []\n",
    "for tweet in sustainability_collection.aggregate([{'$match': {'lang': 'en'}}]):\n",
    "    tweet_list.append(tweet['text'])"
   ]
  },
  {
   "cell_type": "code",
   "execution_count": 6,
   "metadata": {},
   "outputs": [],
   "source": [
    "tweet_df = pd.DataFrame()"
   ]
  },
  {
   "cell_type": "code",
   "execution_count": 7,
   "metadata": {},
   "outputs": [],
   "source": [
    "tweet_df = pd.DataFrame(tweet_list, columns = ['tweet'])    "
   ]
  },
  {
   "cell_type": "code",
   "execution_count": 8,
   "metadata": {},
   "outputs": [],
   "source": [
    "tweet_df['clusters'] = clusters"
   ]
  },
  {
   "cell_type": "code",
   "execution_count": 9,
   "metadata": {},
   "outputs": [
    {
     "data": {
      "text/html": [
       "<div>\n",
       "<style scoped>\n",
       "    .dataframe tbody tr th:only-of-type {\n",
       "        vertical-align: middle;\n",
       "    }\n",
       "\n",
       "    .dataframe tbody tr th {\n",
       "        vertical-align: top;\n",
       "    }\n",
       "\n",
       "    .dataframe thead th {\n",
       "        text-align: right;\n",
       "    }\n",
       "</style>\n",
       "<table border=\"1\" class=\"dataframe\">\n",
       "  <thead>\n",
       "    <tr style=\"text-align: right;\">\n",
       "      <th></th>\n",
       "      <th>tweet</th>\n",
       "      <th>clusters</th>\n",
       "    </tr>\n",
       "  </thead>\n",
       "  <tbody>\n",
       "    <tr>\n",
       "      <th>0</th>\n",
       "      <td>RT @angelurena: This visit concludes this week...</td>\n",
       "      <td>0</td>\n",
       "    </tr>\n",
       "    <tr>\n",
       "      <th>1</th>\n",
       "      <td>Are you in Melbourne or Sydney? Join us at #SP...</td>\n",
       "      <td>9</td>\n",
       "    </tr>\n",
       "    <tr>\n",
       "      <th>2</th>\n",
       "      <td>Why Vienna Does So Well on Quality-of-Life Ran...</td>\n",
       "      <td>0</td>\n",
       "    </tr>\n",
       "    <tr>\n",
       "      <th>3</th>\n",
       "      <td>RT @APLShipping: APL achieved a 50.7% reductio...</td>\n",
       "      <td>0</td>\n",
       "    </tr>\n",
       "    <tr>\n",
       "      <th>4</th>\n",
       "      <td>RT @AmazonWatch: “Hydroelectricity may appear ...</td>\n",
       "      <td>0</td>\n",
       "    </tr>\n",
       "  </tbody>\n",
       "</table>\n",
       "</div>"
      ],
      "text/plain": [
       "                                               tweet  clusters\n",
       "0  RT @angelurena: This visit concludes this week...         0\n",
       "1  Are you in Melbourne or Sydney? Join us at #SP...         9\n",
       "2  Why Vienna Does So Well on Quality-of-Life Ran...         0\n",
       "3  RT @APLShipping: APL achieved a 50.7% reductio...         0\n",
       "4  RT @AmazonWatch: “Hydroelectricity may appear ...         0"
      ]
     },
     "execution_count": 9,
     "metadata": {},
     "output_type": "execute_result"
    }
   ],
   "source": [
    "tweet_df.head()"
   ]
  },
  {
   "cell_type": "code",
   "execution_count": 10,
   "metadata": {},
   "outputs": [
    {
     "data": {
      "text/html": [
       "<div>\n",
       "<style scoped>\n",
       "    .dataframe tbody tr th:only-of-type {\n",
       "        vertical-align: middle;\n",
       "    }\n",
       "\n",
       "    .dataframe tbody tr th {\n",
       "        vertical-align: top;\n",
       "    }\n",
       "\n",
       "    .dataframe thead th {\n",
       "        text-align: right;\n",
       "    }\n",
       "</style>\n",
       "<table border=\"1\" class=\"dataframe\">\n",
       "  <thead>\n",
       "    <tr style=\"text-align: right;\">\n",
       "      <th></th>\n",
       "      <th>tweet</th>\n",
       "      <th>clusters</th>\n",
       "    </tr>\n",
       "  </thead>\n",
       "  <tbody>\n",
       "    <tr>\n",
       "      <th>0</th>\n",
       "      <td>RT @angelurena: This visit concludes this week...</td>\n",
       "      <td>0</td>\n",
       "    </tr>\n",
       "    <tr>\n",
       "      <th>1</th>\n",
       "      <td>Are you in Melbourne or Sydney? Join us at #SP...</td>\n",
       "      <td>9</td>\n",
       "    </tr>\n",
       "    <tr>\n",
       "      <th>2</th>\n",
       "      <td>Why Vienna Does So Well on Quality-of-Life Ran...</td>\n",
       "      <td>0</td>\n",
       "    </tr>\n",
       "    <tr>\n",
       "      <th>3</th>\n",
       "      <td>RT @APLShipping: APL achieved a 50.7% reductio...</td>\n",
       "      <td>0</td>\n",
       "    </tr>\n",
       "    <tr>\n",
       "      <th>4</th>\n",
       "      <td>RT @AmazonWatch: “Hydroelectricity may appear ...</td>\n",
       "      <td>0</td>\n",
       "    </tr>\n",
       "  </tbody>\n",
       "</table>\n",
       "</div>"
      ],
      "text/plain": [
       "                                               tweet  clusters\n",
       "0  RT @angelurena: This visit concludes this week...         0\n",
       "1  Are you in Melbourne or Sydney? Join us at #SP...         9\n",
       "2  Why Vienna Does So Well on Quality-of-Life Ran...         0\n",
       "3  RT @APLShipping: APL achieved a 50.7% reductio...         0\n",
       "4  RT @AmazonWatch: “Hydroelectricity may appear ...         0"
      ]
     },
     "execution_count": 10,
     "metadata": {},
     "output_type": "execute_result"
    }
   ],
   "source": [
    "tweet_df.head()"
   ]
  },
  {
   "cell_type": "code",
   "execution_count": 11,
   "metadata": {},
   "outputs": [
    {
     "data": {
      "text/plain": [
       "Sentiment(polarity=0.0, subjectivity=0.0)"
      ]
     },
     "execution_count": 11,
     "metadata": {},
     "output_type": "execute_result"
    }
   ],
   "source": [
    "TextBlob(tweet_df.iloc[0][0]).sentiment"
   ]
  },
  {
   "cell_type": "code",
   "execution_count": 12,
   "metadata": {},
   "outputs": [],
   "source": [
    "tweet_df['polarity'] = tweet_df.tweet.apply(lambda x: TextBlob(x).polarity)\n",
    "tweet_df['subjectivity'] = tweet_df.tweet.apply(lambda x: TextBlob(x).subjectivity)"
   ]
  },
  {
   "cell_type": "code",
   "execution_count": 13,
   "metadata": {},
   "outputs": [
    {
     "data": {
      "text/html": [
       "<div>\n",
       "<style scoped>\n",
       "    .dataframe tbody tr th:only-of-type {\n",
       "        vertical-align: middle;\n",
       "    }\n",
       "\n",
       "    .dataframe tbody tr th {\n",
       "        vertical-align: top;\n",
       "    }\n",
       "\n",
       "    .dataframe thead th {\n",
       "        text-align: right;\n",
       "    }\n",
       "</style>\n",
       "<table border=\"1\" class=\"dataframe\">\n",
       "  <thead>\n",
       "    <tr style=\"text-align: right;\">\n",
       "      <th></th>\n",
       "      <th>tweet</th>\n",
       "      <th>clusters</th>\n",
       "      <th>polarity</th>\n",
       "      <th>subjectivity</th>\n",
       "    </tr>\n",
       "  </thead>\n",
       "  <tbody>\n",
       "    <tr>\n",
       "      <th>0</th>\n",
       "      <td>RT @angelurena: This visit concludes this week...</td>\n",
       "      <td>0</td>\n",
       "      <td>0.000000</td>\n",
       "      <td>0.00</td>\n",
       "    </tr>\n",
       "    <tr>\n",
       "      <th>1</th>\n",
       "      <td>Are you in Melbourne or Sydney? Join us at #SP...</td>\n",
       "      <td>9</td>\n",
       "      <td>0.500000</td>\n",
       "      <td>0.90</td>\n",
       "    </tr>\n",
       "    <tr>\n",
       "      <th>2</th>\n",
       "      <td>Why Vienna Does So Well on Quality-of-Life Ran...</td>\n",
       "      <td>0</td>\n",
       "      <td>0.000000</td>\n",
       "      <td>0.00</td>\n",
       "    </tr>\n",
       "    <tr>\n",
       "      <th>3</th>\n",
       "      <td>RT @APLShipping: APL achieved a 50.7% reductio...</td>\n",
       "      <td>0</td>\n",
       "      <td>0.000000</td>\n",
       "      <td>0.00</td>\n",
       "    </tr>\n",
       "    <tr>\n",
       "      <th>4</th>\n",
       "      <td>RT @AmazonWatch: “Hydroelectricity may appear ...</td>\n",
       "      <td>0</td>\n",
       "      <td>0.233333</td>\n",
       "      <td>0.85</td>\n",
       "    </tr>\n",
       "  </tbody>\n",
       "</table>\n",
       "</div>"
      ],
      "text/plain": [
       "                                               tweet  clusters  polarity  \\\n",
       "0  RT @angelurena: This visit concludes this week...         0  0.000000   \n",
       "1  Are you in Melbourne or Sydney? Join us at #SP...         9  0.500000   \n",
       "2  Why Vienna Does So Well on Quality-of-Life Ran...         0  0.000000   \n",
       "3  RT @APLShipping: APL achieved a 50.7% reductio...         0  0.000000   \n",
       "4  RT @AmazonWatch: “Hydroelectricity may appear ...         0  0.233333   \n",
       "\n",
       "   subjectivity  \n",
       "0          0.00  \n",
       "1          0.90  \n",
       "2          0.00  \n",
       "3          0.00  \n",
       "4          0.85  "
      ]
     },
     "execution_count": 13,
     "metadata": {},
     "output_type": "execute_result"
    }
   ],
   "source": [
    "tweet_df.head()"
   ]
  },
  {
   "cell_type": "code",
   "execution_count": 14,
   "metadata": {},
   "outputs": [],
   "source": [
    "clustered_tweets = tweet_df.filter(items = ['clusters', 'polarity', 'subjectivity'])"
   ]
  },
  {
   "cell_type": "code",
   "execution_count": 18,
   "metadata": {},
   "outputs": [
    {
     "data": {
      "text/html": [
       "<div>\n",
       "<style scoped>\n",
       "    .dataframe tbody tr th:only-of-type {\n",
       "        vertical-align: middle;\n",
       "    }\n",
       "\n",
       "    .dataframe tbody tr th {\n",
       "        vertical-align: top;\n",
       "    }\n",
       "\n",
       "    .dataframe thead th {\n",
       "        text-align: right;\n",
       "    }\n",
       "</style>\n",
       "<table border=\"1\" class=\"dataframe\">\n",
       "  <thead>\n",
       "    <tr style=\"text-align: right;\">\n",
       "      <th></th>\n",
       "      <th>clusters</th>\n",
       "      <th>polarity</th>\n",
       "      <th>subjectivity</th>\n",
       "    </tr>\n",
       "  </thead>\n",
       "  <tbody>\n",
       "    <tr>\n",
       "      <th>0</th>\n",
       "      <td>0</td>\n",
       "      <td>0.128961</td>\n",
       "      <td>0.324170</td>\n",
       "    </tr>\n",
       "    <tr>\n",
       "      <th>1</th>\n",
       "      <td>1</td>\n",
       "      <td>0.124985</td>\n",
       "      <td>0.228718</td>\n",
       "    </tr>\n",
       "    <tr>\n",
       "      <th>2</th>\n",
       "      <td>2</td>\n",
       "      <td>0.998322</td>\n",
       "      <td>0.898658</td>\n",
       "    </tr>\n",
       "    <tr>\n",
       "      <th>3</th>\n",
       "      <td>3</td>\n",
       "      <td>-0.023810</td>\n",
       "      <td>0.380952</td>\n",
       "    </tr>\n",
       "    <tr>\n",
       "      <th>4</th>\n",
       "      <td>4</td>\n",
       "      <td>0.085120</td>\n",
       "      <td>0.276329</td>\n",
       "    </tr>\n",
       "    <tr>\n",
       "      <th>5</th>\n",
       "      <td>5</td>\n",
       "      <td>0.000000</td>\n",
       "      <td>0.000000</td>\n",
       "    </tr>\n",
       "    <tr>\n",
       "      <th>6</th>\n",
       "      <td>6</td>\n",
       "      <td>0.126186</td>\n",
       "      <td>0.333083</td>\n",
       "    </tr>\n",
       "    <tr>\n",
       "      <th>7</th>\n",
       "      <td>7</td>\n",
       "      <td>0.571651</td>\n",
       "      <td>0.601654</td>\n",
       "    </tr>\n",
       "    <tr>\n",
       "      <th>8</th>\n",
       "      <td>8</td>\n",
       "      <td>-0.184163</td>\n",
       "      <td>0.011104</td>\n",
       "    </tr>\n",
       "    <tr>\n",
       "      <th>9</th>\n",
       "      <td>9</td>\n",
       "      <td>0.307062</td>\n",
       "      <td>0.568531</td>\n",
       "    </tr>\n",
       "    <tr>\n",
       "      <th>10</th>\n",
       "      <td>10</td>\n",
       "      <td>0.275395</td>\n",
       "      <td>0.432922</td>\n",
       "    </tr>\n",
       "    <tr>\n",
       "      <th>11</th>\n",
       "      <td>11</td>\n",
       "      <td>0.107537</td>\n",
       "      <td>0.392918</td>\n",
       "    </tr>\n",
       "    <tr>\n",
       "      <th>12</th>\n",
       "      <td>12</td>\n",
       "      <td>0.039794</td>\n",
       "      <td>0.328477</td>\n",
       "    </tr>\n",
       "  </tbody>\n",
       "</table>\n",
       "</div>"
      ],
      "text/plain": [
       "    clusters  polarity  subjectivity\n",
       "0          0  0.128961      0.324170\n",
       "1          1  0.124985      0.228718\n",
       "2          2  0.998322      0.898658\n",
       "3          3 -0.023810      0.380952\n",
       "4          4  0.085120      0.276329\n",
       "5          5  0.000000      0.000000\n",
       "6          6  0.126186      0.333083\n",
       "7          7  0.571651      0.601654\n",
       "8          8 -0.184163      0.011104\n",
       "9          9  0.307062      0.568531\n",
       "10        10  0.275395      0.432922\n",
       "11        11  0.107537      0.392918\n",
       "12        12  0.039794      0.328477"
      ]
     },
     "execution_count": 18,
     "metadata": {},
     "output_type": "execute_result"
    }
   ],
   "source": [
    "clustered_tweets.groupby(by = clusters).mean()"
   ]
  },
  {
   "cell_type": "code",
   "execution_count": 22,
   "metadata": {},
   "outputs": [
    {
     "name": "stdout",
     "output_type": "stream",
     "text": [
      "Topic Number: 0 Percent: 0.681687989306855\n",
      "Topic Number: 1 Percent: 0.03255680733244224\n",
      "Topic Number: 2 Percent: 0.014225701737636052\n",
      "Topic Number: 3 Percent: 0.010693144930303608\n",
      "Topic Number: 4 Percent: 0.04525491693717777\n",
      "Topic Number: 5 Percent: 0.012220737063204125\n",
      "Topic Number: 6 Percent: 0.06759595188084781\n",
      "Topic Number: 7 Percent: 0.041435936604926484\n",
      "Topic Number: 8 Percent: 0.013080007637960665\n",
      "Topic Number: 9 Percent: 0.027592132900515563\n",
      "Topic Number: 10 Percent: 0.02281840748520145\n",
      "Topic Number: 11 Percent: 0.018617529119725033\n",
      "Topic Number: 12 Percent: 0.012220737063204125\n"
     ]
    }
   ],
   "source": [
    "topic_counts = Counter(clusters)\n",
    "\n",
    "for topic, count in sorted(topic_counts.items()):\n",
    "    print(\"Topic Number:\", topic, \"Percent:\", (count / sum(topic_counts.values())))"
   ]
  },
  {
   "cell_type": "code",
   "execution_count": 27,
   "metadata": {},
   "outputs": [
    {
     "name": "stdout",
     "output_type": "stream",
     "text": [
      "((?:<[^>]+>)|(?:http[s]?://t.co/[a-zA-Z0-9]+)|(?:http[s]\\S+?)|(?:@[\\w_]+)|(?:\\#+[\\w_]+[\\w\\'_\\-]*[\\w_]+)|(?:\\$[a-zA-Z]{1,6}([._][a-zA-Z]{1,2})?)|(?:[a-z][a-z'\\-_]+[a-z])|(?:[+\\-]?\\d+[,/.:-]\\d+[+\\-]?)|(?:[\\w_]+)|(?:\\.(?:\\s*\\.){1,}))\n"
     ]
    }
   ],
   "source": [
    "'''\n",
    "\n",
    "Tweet Tokenizer Adapted from :  https://github.com/adonoho/TweetTokenizers/blob/master/PottsTweetTokenizer.py\n",
    "   \n",
    "This Tokenizer preserves Twitter language including:  usernames, hashtags, symbols html, etc.\n",
    "\n",
    "'''\n",
    "\n",
    "regex_code = (\n",
    "\n",
    "    r\"\"\"(?:<[^>]+>)\"\"\",                             # HTML tags\n",
    "    r\"\"\"(?:http[s]?://t.co/[a-zA-Z0-9]+)\"\"\",        # URLs \n",
    "    r\"\"\"(?:http[s]\\S+?)\"\"\",                         # URLs\n",
    "    r\"\"\"(?:@[\\w_]+)\"\"\",                             # Twitter username\n",
    "    r\"\"\"(?:\\#+[\\w_]+[\\w\\'_\\-]*[\\w_]+)\"\"\",           # Twitter hashtags\n",
    "    r\"\"\"(?:\\$[a-zA-Z]{1,6}([._][a-zA-Z]{1,2})?)\"\"\", # Twitter symbols / cashtags\n",
    "    r\"\"\"(?:[a-z][a-z'\\-_]+[a-z])\"\"\",                # Words with apostrophes or dashes\n",
    "    r\"\"\"(?:[+\\-]?\\d+[,/.:-]\\d+[+\\-]?)\"\"\",           # Numbers, including fractions, decimals\n",
    "    r\"\"\"(?:[\\w_]+)\"\"\",                              # Words without apostrophes or dashes\n",
    "    r\"\"\"(?:\\.(?:\\s*\\.){1,})\"\"\"                      # Ellipsis\n",
    "    )\n",
    "\n",
    "#regex_text = re.sub(r'[%s]'% (regex_pattern), ' ')\n",
    "\n",
    "regex_pattern = re.compile(r\"\"\"(%s)\"\"\"%\"|\".join(regex_code), re.VERBOSE | re.I | re.UNICODE)\n",
    "\n",
    "print(regex_pattern.pattern)\n",
    "\n",
    "regex_tokenizer = RegexpTokenizer(pattern=regex_pattern.pattern,gaps=True, discard_empty = True)"
   ]
  },
  {
   "cell_type": "code",
   "execution_count": 28,
   "metadata": {},
   "outputs": [
    {
     "data": {
      "text/plain": [
       "'RT @angelurena: This visit concludes this week’s stops in Miami and the Caribbean by President @BillClinton to promote sustainability and r…'"
      ]
     },
     "execution_count": 28,
     "metadata": {},
     "output_type": "execute_result"
    }
   ],
   "source": [
    "tweet_df.tweet[0]"
   ]
  },
  {
   "cell_type": "code",
   "execution_count": 29,
   "metadata": {},
   "outputs": [
    {
     "data": {
      "text/plain": [
       "['RT',\n",
       " ' ',\n",
       " '@angelurena',\n",
       " ': ',\n",
       " 'This',\n",
       " ' ',\n",
       " 'visit',\n",
       " ' ',\n",
       " 'concludes',\n",
       " ' ',\n",
       " 'this',\n",
       " ' ',\n",
       " 'week',\n",
       " '’',\n",
       " 's',\n",
       " ' ',\n",
       " 'stops',\n",
       " ' ',\n",
       " 'in',\n",
       " ' ',\n",
       " 'Miami',\n",
       " ' ',\n",
       " 'and',\n",
       " ' ',\n",
       " 'the',\n",
       " ' ',\n",
       " 'Caribbean',\n",
       " ' ',\n",
       " 'by',\n",
       " ' ',\n",
       " 'President',\n",
       " ' ',\n",
       " '@BillClinton',\n",
       " ' ',\n",
       " 'to',\n",
       " ' ',\n",
       " 'promote',\n",
       " ' ',\n",
       " 'sustainability',\n",
       " ' ',\n",
       " 'and',\n",
       " ' ',\n",
       " 'r',\n",
       " '…']"
      ]
     },
     "execution_count": 29,
     "metadata": {},
     "output_type": "execute_result"
    }
   ],
   "source": [
    "regex_tokenizer.tokenize(tweet_df.tweet[0])"
   ]
  },
  {
   "cell_type": "code",
   "execution_count": null,
   "metadata": {},
   "outputs": [],
   "source": []
  }
 ],
 "metadata": {
  "kernelspec": {
   "display_name": "Python 3",
   "language": "python",
   "name": "python3"
  },
  "language_info": {
   "codemirror_mode": {
    "name": "ipython",
    "version": 3
   },
   "file_extension": ".py",
   "mimetype": "text/x-python",
   "name": "python",
   "nbconvert_exporter": "python",
   "pygments_lexer": "ipython3",
   "version": "3.6.5"
  }
 },
 "nbformat": 4,
 "nbformat_minor": 2
}
